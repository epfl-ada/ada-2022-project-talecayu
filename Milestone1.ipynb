{
 "cells": [
  {
   "cell_type": "markdown",
   "metadata": {},
   "source": [
    "#### Milestone 2 #####"
   ]
  },
  {
   "cell_type": "code",
   "execution_count": null,
   "metadata": {},
   "outputs": [],
   "source": [
    "import pandas as pd\n",
    "import matplotlib.pyplot as plt\n",
    "import numpy as np\n",
    "import json\n"
   ]
  },
  {
   "cell_type": "markdown",
   "metadata": {},
   "source": [
    "Load dataframes into proper format"
   ]
  },
  {
   "cell_type": "code",
   "execution_count": null,
   "metadata": {},
   "outputs": [],
   "source": [
    "df_plot = pd.read_csv(\"data/MovieSummaries/plot_summaries.txt\", sep='\\t', header=None, names=[\"wikiID\", \"plot\"])\n",
    "df_meta = pd.read_csv(\"data/MovieSummaries/movie.metadata.tsv\", sep='\\t', header=None, names=[\"wikiID\", \"freeID\", \"name\", \"release_date\", \"revenue\", \"runtime\", \"languages\", \"countries\", \"genres\"])\n",
    "df_char = pd.read_csv(\"data/MovieSummaries/character.metadata.tsv\", sep='\\t',header=None, names=[\"WikiID\",\"freeID\",\"release_date\",\"char_name\",\"actor_DOB\",\"actor_gender\",\"actor_height\",\"actor_ethnicity\",\"actor_name\",\"Actor_age\",\"freeID_char_map\", \"FreeID_char\", \"FreeID_actor\"])\n",
    "df_char_names = pd.read_csv('data/MovieSummaries/name.clusters.txt', sep=\"\\t\", header=None, names=[\"char_name\",\"freeID_char_map\"])"
   ]
  },
  {
   "cell_type": "code",
   "execution_count": null,
   "metadata": {},
   "outputs": [],
   "source": [
    "from pandas.io.json import json_normalize\n",
    "\n",
    "df_tropes = pd.read_csv('data/MovieSummaries/tvtropes.clusters.txt', sep='\\t', header=None, names=[\"trope\",\"details\"])\n",
    "#flatten json column into panda dataframe:\n",
    "df_tropes = df_tropes.join(json_normalize(df_tropes[\"details\"].map(json.loads).tolist())).drop([\"details\"], axis=1).rename(columns={\"id\":\"freeID_char_map\"})"
   ]
  },
  {
   "cell_type": "code",
   "execution_count": null,
   "metadata": {},
   "outputs": [],
   "source": [
    "df_tropes.info()"
   ]
  },
  {
   "cell_type": "code",
   "execution_count": null,
   "metadata": {},
   "outputs": [],
   "source": [
    "df_meta.info()"
   ]
  },
  {
   "cell_type": "code",
   "execution_count": null,
   "metadata": {},
   "outputs": [],
   "source": [
    "df_plot.info()"
   ]
  },
  {
   "cell_type": "code",
   "execution_count": null,
   "metadata": {},
   "outputs": [],
   "source": [
    "df_char.head(5)"
   ]
  },
  {
   "cell_type": "code",
   "execution_count": null,
   "metadata": {},
   "outputs": [],
   "source": [
    "df_tropes.info()"
   ]
  },
  {
   "cell_type": "code",
   "execution_count": null,
   "metadata": {},
   "outputs": [],
   "source": [
    "df_char_names.info()"
   ]
  },
  {
   "cell_type": "markdown",
   "metadata": {},
   "source": [
    "The feature connecting dataframes together is the Wikipedia ID. Also there are more metadatas of movies (81741 movies) than plots (42303 movies). We will only keep the metadatas of the movies we know the plot of."
   ]
  },
  {
   "cell_type": "code",
   "execution_count": null,
   "metadata": {},
   "outputs": [],
   "source": [
    "df_full = df_meta.merge(df_plot, how='inner', on=\"wikiID\")\n",
    "df_full.info()"
   ]
  },
  {
   "cell_type": "markdown",
   "metadata": {},
   "source": [
    "Only a small fraction of the characters have been labellised with a trope (500), compared to the number of unlabeled (450669). Here is the dataframe containing the characters with trope"
   ]
  },
  {
   "cell_type": "code",
   "execution_count": null,
   "metadata": {},
   "outputs": [],
   "source": [
    "df_inner_char = df_char.merge(df_tropes, how='inner', on='freeID_char_map')"
   ]
  },
  {
   "cell_type": "code",
   "execution_count": null,
   "metadata": {},
   "outputs": [],
   "source": [
    "df_inner_char.drop(columns=[\"char\",\"actor\"],inplace=True)\n",
    "df_inner_char.info()"
   ]
  },
  {
   "cell_type": "markdown",
   "metadata": {},
   "source": [
    "#### Superficial analysis of datasets #####\n",
    "* Distribution of number of words in plot description:"
   ]
  },
  {
   "cell_type": "code",
   "execution_count": null,
   "metadata": {},
   "outputs": [],
   "source": [
    "#use raw plot_summaries and count nb of words in each plot \n",
    "df_plot_copy = df_plot.copy()\n",
    "df_plot_copy['nb_words']=df_plot_copy['plot'].apply(lambda n: len(n.split()))\n",
    "df_plot_copy.head(3)"
   ]
  },
  {
   "cell_type": "code",
   "execution_count": null,
   "metadata": {},
   "outputs": [],
   "source": [
    "n_bins = 1000\n",
    "\n",
    "fig = plt.figure()\n",
    "ax = fig.add_subplot(1, 1, 1)\n",
    "ax.hist(df_plot_copy['nb_words'], bins=n_bins)\n",
    "ax.set_title('Distribution of number of words per plot description')\n",
    "\n",
    "fig.show()"
   ]
  },
  {
   "cell_type": "markdown",
   "metadata": {},
   "source": [
    "Only keep the plots with less than 2000 words (which interval?)"
   ]
  },
  {
   "cell_type": "code",
   "execution_count": null,
   "metadata": {},
   "outputs": [],
   "source": [
    "threshold = 2000\n",
    "df_plot_copy = df_plot_copy.loc[df_plot_copy['nb_words'] < threshold]"
   ]
  },
  {
   "cell_type": "code",
   "execution_count": null,
   "metadata": {},
   "outputs": [],
   "source": [
    "n_bins = 1000\n",
    "\n",
    "fig = plt.figure()\n",
    "ax = fig.add_subplot(1, 1, 1)\n",
    "ax.hist(df_plot_copy['nb_words'], bins=n_bins)\n",
    "ax.set_title('Distribution of number of words per plot description')\n",
    "\n",
    "\n",
    "fig.show()"
   ]
  },
  {
   "cell_type": "markdown",
   "metadata": {},
   "source": [
    "What would be the minimum number of words to find senseful topic extraction?  "
   ]
  },
  {
   "cell_type": "markdown",
   "metadata": {},
   "source": [
    "* characters by film distribition: how many characters have been labelised for each film?"
   ]
  },
  {
   "cell_type": "code",
   "execution_count": null,
   "metadata": {},
   "outputs": [],
   "source": [
    "df_char_copy = df_char[['freeID','FreeID_actor']].copy()\n",
    "df_char_copy = df_char_copy.groupby(['freeID']).size().reset_index(name='counts')\n",
    "df_char_copy.head(5)"
   ]
  },
  {
   "cell_type": "code",
   "execution_count": null,
   "metadata": {},
   "outputs": [],
   "source": [
    "n_bins = 150\n",
    "\n",
    "fig = plt.figure()\n",
    "ax = fig.add_subplot(1, 1, 1)\n",
    "ax.hist(df_char_copy['counts'], bins=n_bins)\n",
    "ax.set_title('Distribution of number of characters labelised per film')\n",
    "\n",
    "fig.show()"
   ]
  },
  {
   "cell_type": "code",
   "execution_count": null,
   "metadata": {},
   "outputs": [],
   "source": [
    "n_bins = 200\n",
    "red_square = dict(markerfacecolor='r', marker='s')\n",
    "\n",
    "fig = plt.figure()\n",
    "ax = fig.add_subplot(1, 1, 1)\n",
    "#ax.hist(df_char_copy['counts'], bins=n_bins)\n",
    "ax.boxplot(df_char_copy['counts'],vert=False, flierprops=red_square)\n",
    "ax.set_title('Number of characters labelised per film')\n",
    "fig.show()\n",
    "print(\"1rst quartile, median and 3rd quartile values: \")\n",
    "print(df_char_copy['counts'].quantile([0.25,0.5,0.75]))\n"
   ]
  },
  {
   "cell_type": "markdown",
   "metadata": {},
   "source": [
    "\"Hemingway & Gellhorn\" has more than 115 characters labelised! "
   ]
  },
  {
   "cell_type": "code",
   "execution_count": null,
   "metadata": {},
   "outputs": [],
   "source": [
    "df_char_copy.loc[df_char_copy['counts'] > 100].head(10)"
   ]
  }
 ],
 "metadata": {
  "kernelspec": {
   "display_name": "Python 3.10.6 ('ada_env')",
   "language": "python",
   "name": "python3"
  },
  "language_info": {
   "codemirror_mode": {
    "name": "ipython",
    "version": 3
   },
   "file_extension": ".py",
   "mimetype": "text/x-python",
   "name": "python",
   "nbconvert_exporter": "python",
   "pygments_lexer": "ipython3",
   "version": "3.10.6"
  },
  "vscode": {
   "interpreter": {
    "hash": "da95a198496a092409825c0dcbe55ede415d036d5f8256b45efce48474389117"
   }
  }
 },
 "nbformat": 4,
 "nbformat_minor": 2
}
