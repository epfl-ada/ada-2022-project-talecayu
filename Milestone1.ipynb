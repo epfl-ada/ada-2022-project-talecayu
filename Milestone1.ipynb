{
 "cells": [
  {
   "cell_type": "markdown",
   "metadata": {},
   "source": [
    "#### Milestone 2 #####"
   ]
  },
  {
   "cell_type": "code",
   "execution_count": 32,
   "metadata": {},
   "outputs": [],
   "source": [
    "import pandas as pd\n",
    "import matplotlib.pyplot as plt\n",
    "import numpy as np\n",
    "import json\n"
   ]
  },
  {
   "cell_type": "markdown",
   "metadata": {},
   "source": [
    "Load dataframes into proper format"
   ]
  },
  {
   "cell_type": "code",
   "execution_count": 84,
   "metadata": {},
   "outputs": [],
   "source": [
    "df_plot = pd.read_csv(\"data/MovieSummaries/plot_summaries.txt\", sep='\\t', header=None, names=[\"wikiID\", \"plot\"])\n",
    "df_meta = pd.read_csv(\"data/MovieSummaries/movie.metadata.tsv\", sep='\\t', header=None, names=[\"wikiID\", \"freeID\", \"name\", \"release_date\", \"revenue\", \"runtime\", \"languages\", \"countries\", \"genres\"])\n",
    "df_char = pd.read_csv(\"data/MovieSummaries/character.metadata.tsv\", sep='\\t',header=None, names=[\"WikiID\",\"freeID\",\"char_name\",\"actor_DOB\",\"actor_gender\",\"actor_height\",\"actor_ethnicity\",\"actor_name\",\"Actor_age\",\"freeID_char_map\", \"FreeID_char\", \"FreeID_actor\"])\n",
    "df_char_names = pd.read_csv('data/MovieSummaries/name.clusters.txt', sep=\"\\t\", header=None, names=[\"char_name\",\"freeID_char_map\"])"
   ]
  },
  {
   "cell_type": "code",
   "execution_count": 87,
   "metadata": {},
   "outputs": [
    {
     "name": "stderr",
     "output_type": "stream",
     "text": [
      "C:\\Users\\YGrebici\\AppData\\Local\\Temp\\ipykernel_64688\\100173281.py:5: FutureWarning: pandas.io.json.json_normalize is deprecated, use pandas.json_normalize instead.\n",
      "  df_tropes = df_tropes.join(json_normalize(df_tropes[\"details\"].map(json.loads).tolist())).drop([\"details\"], axis=1).rename(columns={\"id\":\"freeID_char_map\"})\n"
     ]
    }
   ],
   "source": [
    "from pandas.io.json import json_normalize\n",
    "\n",
    "df_tropes = pd.read_csv('data/MovieSummaries/tvtropes.clusters.txt', sep='\\t', header=None, names=[\"trope\",\"details\"])\n",
    "#flatten json column into panda dataframe:\n",
    "df_tropes = df_tropes.join(json_normalize(df_tropes[\"details\"].map(json.loads).tolist())).drop([\"details\"], axis=1).rename(columns={\"id\":\"freeID_char_map\"})"
   ]
  },
  {
   "cell_type": "code",
   "execution_count": 88,
   "metadata": {},
   "outputs": [
    {
     "name": "stdout",
     "output_type": "stream",
     "text": [
      "<class 'pandas.core.frame.DataFrame'>\n",
      "RangeIndex: 501 entries, 0 to 500\n",
      "Data columns (total 5 columns):\n",
      " #   Column           Non-Null Count  Dtype \n",
      "---  ------           --------------  ----- \n",
      " 0   trope            501 non-null    object\n",
      " 1   char             501 non-null    object\n",
      " 2   movie            501 non-null    object\n",
      " 3   freeID_char_map  501 non-null    object\n",
      " 4   actor            501 non-null    object\n",
      "dtypes: object(5)\n",
      "memory usage: 19.7+ KB\n"
     ]
    }
   ],
   "source": [
    "df_tropes.info()"
   ]
  },
  {
   "cell_type": "code",
   "execution_count": null,
   "metadata": {},
   "outputs": [],
   "source": [
    "df_meta.info()"
   ]
  },
  {
   "cell_type": "code",
   "execution_count": null,
   "metadata": {},
   "outputs": [],
   "source": [
    "df_plot.info()"
   ]
  },
  {
   "cell_type": "code",
   "execution_count": 81,
   "metadata": {},
   "outputs": [
    {
     "name": "stdout",
     "output_type": "stream",
     "text": [
      "<class 'pandas.core.frame.DataFrame'>\n",
      "Int64Index: 450669 entries, 975900 to 28308153\n",
      "Data columns (total 12 columns):\n",
      " #   Column           Non-Null Count   Dtype  \n",
      "---  ------           --------------   -----  \n",
      " 0   WikiID           450669 non-null  object \n",
      " 1   freeID           440674 non-null  object \n",
      " 2   char_name        192794 non-null  object \n",
      " 3   actor_DOB        344524 non-null  object \n",
      " 4   actor_gender     405060 non-null  object \n",
      " 5   actor_height     154824 non-null  float64\n",
      " 6   actor_ethnicity  106058 non-null  object \n",
      " 7   actor_name       449441 non-null  object \n",
      " 8   Actor_age        292556 non-null  float64\n",
      " 9   freeID_char_map  450669 non-null  object \n",
      " 10  FreeID_char      192804 non-null  object \n",
      " 11  FreeID_actor     449854 non-null  object \n",
      "dtypes: float64(2), object(10)\n",
      "memory usage: 44.7+ MB\n"
     ]
    }
   ],
   "source": [
    "df_char.info()"
   ]
  },
  {
   "cell_type": "code",
   "execution_count": 76,
   "metadata": {},
   "outputs": [
    {
     "name": "stdout",
     "output_type": "stream",
     "text": [
      "<class 'pandas.core.frame.DataFrame'>\n",
      "RangeIndex: 501 entries, 0 to 500\n",
      "Data columns (total 5 columns):\n",
      " #   Column   Non-Null Count  Dtype \n",
      "---  ------   --------------  ----- \n",
      " 0   trope    501 non-null    object\n",
      " 1   t.char   501 non-null    object\n",
      " 2   t.movie  501 non-null    object\n",
      " 3   t.id     501 non-null    object\n",
      " 4   t.actor  501 non-null    object\n",
      "dtypes: object(5)\n",
      "memory usage: 19.7+ KB\n"
     ]
    }
   ],
   "source": [
    "df_tropes.info()"
   ]
  },
  {
   "cell_type": "code",
   "execution_count": 82,
   "metadata": {},
   "outputs": [
    {
     "name": "stdout",
     "output_type": "stream",
     "text": [
      "<class 'pandas.core.frame.DataFrame'>\n",
      "RangeIndex: 2666 entries, 0 to 2665\n",
      "Data columns (total 2 columns):\n",
      " #   Column  Non-Null Count  Dtype \n",
      "---  ------  --------------  ----- \n",
      " 0   0       2666 non-null   object\n",
      " 1   1       2666 non-null   object\n",
      "dtypes: object(2)\n",
      "memory usage: 41.8+ KB\n"
     ]
    }
   ],
   "source": [
    "df_char_names.info()"
   ]
  },
  {
   "cell_type": "markdown",
   "metadata": {},
   "source": [
    "The feature connecting dataframes together is the Wikipedia ID. Also there are more metadatas of movies (81741 movies) than plots (42303 movies). We will only keep the metadatas of the movies we know the plot of."
   ]
  },
  {
   "cell_type": "code",
   "execution_count": 71,
   "metadata": {},
   "outputs": [
    {
     "name": "stdout",
     "output_type": "stream",
     "text": [
      "<class 'pandas.core.frame.DataFrame'>\n",
      "Int64Index: 42204 entries, 0 to 42203\n",
      "Data columns (total 10 columns):\n",
      " #   Column        Non-Null Count  Dtype  \n",
      "---  ------        --------------  -----  \n",
      " 0   wikiID        42204 non-null  int64  \n",
      " 1   freeID        42204 non-null  object \n",
      " 2   name          42204 non-null  object \n",
      " 3   release_date  39586 non-null  object \n",
      " 4   revenue       7587 non-null   float64\n",
      " 5   runtime       35580 non-null  float64\n",
      " 6   languages     42204 non-null  object \n",
      " 7   countries     42204 non-null  object \n",
      " 8   genres        42204 non-null  object \n",
      " 9   plot          42204 non-null  object \n",
      "dtypes: float64(2), int64(1), object(7)\n",
      "memory usage: 3.5+ MB\n"
     ]
    }
   ],
   "source": [
    "df_full = df_meta.merge(df_plot, how='inner', on=\"wikiID\")\n",
    "df_full.info()"
   ]
  },
  {
   "cell_type": "markdown",
   "metadata": {},
   "source": [
    "Only a small fraction of the characters have been labellised with a trope (500), compared to the number of unlabeled (450669). Here is the dataframe containing the characters with trope"
   ]
  },
  {
   "cell_type": "code",
   "execution_count": 90,
   "metadata": {},
   "outputs": [],
   "source": [
    "df_inner_char = df_char.merge(df_tropes, how='inner', on='freeID_char_map')"
   ]
  },
  {
   "cell_type": "code",
   "execution_count": 97,
   "metadata": {},
   "outputs": [
    {
     "name": "stdout",
     "output_type": "stream",
     "text": [
      "<class 'pandas.core.frame.DataFrame'>\n",
      "Int64Index: 501 entries, 0 to 500\n",
      "Data columns (total 14 columns):\n",
      " #   Column           Non-Null Count  Dtype  \n",
      "---  ------           --------------  -----  \n",
      " 0   WikiID           501 non-null    object \n",
      " 1   freeID           501 non-null    object \n",
      " 2   char_name        501 non-null    object \n",
      " 3   actor_DOB        499 non-null    object \n",
      " 4   actor_gender     500 non-null    object \n",
      " 5   actor_height     469 non-null    float64\n",
      " 6   actor_ethnicity  333 non-null    object \n",
      " 7   actor_name       501 non-null    object \n",
      " 8   Actor_age        483 non-null    float64\n",
      " 9   freeID_char_map  501 non-null    object \n",
      " 10  FreeID_char      501 non-null    object \n",
      " 11  FreeID_actor     501 non-null    object \n",
      " 12  trope            501 non-null    object \n",
      " 13  movie            501 non-null    object \n",
      "dtypes: float64(2), object(12)\n",
      "memory usage: 74.9+ KB\n"
     ]
    }
   ],
   "source": [
    "#df_inner_char.drop(columns=[\"char\",\"actor\"],inplace=True)\n",
    "df_inner_char.info()"
   ]
  },
  {
   "cell_type": "markdown",
   "metadata": {},
   "source": []
  }
 ],
 "metadata": {
  "kernelspec": {
   "display_name": "Python 3.10.6 ('ada_env')",
   "language": "python",
   "name": "python3"
  },
  "language_info": {
   "codemirror_mode": {
    "name": "ipython",
    "version": 3
   },
   "file_extension": ".py",
   "mimetype": "text/x-python",
   "name": "python",
   "nbconvert_exporter": "python",
   "pygments_lexer": "ipython3",
   "version": "3.10.6"
  },
  "vscode": {
   "interpreter": {
    "hash": "da95a198496a092409825c0dcbe55ede415d036d5f8256b45efce48474389117"
   }
  }
 },
 "nbformat": 4,
 "nbformat_minor": 2
}
