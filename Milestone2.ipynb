{
 "cells": [
  {
   "cell_type": "markdown",
   "metadata": {},
   "source": [
    "# Milestone 2"
   ]
  },
  {
   "cell_type": "code",
   "execution_count": 1,
   "metadata": {},
   "outputs": [],
   "source": [
    "import pandas as pd\n",
    "import matplotlib.pyplot as plt\n",
    "import numpy as np\n",
    "import json"
   ]
  },
  {
   "cell_type": "markdown",
   "metadata": {},
   "source": [
    "We start by loading the tables."
   ]
  },
  {
   "cell_type": "code",
   "execution_count": 2,
   "metadata": {},
   "outputs": [],
   "source": [
    "df_plot = pd.read_csv(\"data/MovieSummaries/plot_summaries.txt\", sep='\\t', header=None, names=[\"wikiID\", \"plot\"])\n",
    "\n",
    "df_meta = pd.read_csv(\"data/MovieSummaries/movie.metadata.tsv\", sep='\\t', header=None, \n",
    "    names=[\"wikiID\", \"freeID\", \"name\", \"release_date\", \"revenue\", \"runtime\", \"languages\", \"countries\", \"genres\"])\n",
    "\n",
    "df_char = pd.read_csv(\"data/MovieSummaries/character.metadata.tsv\", sep='\\t',header=None, \n",
    "    names=[\"WikiID\", \"freeID\", \"release_date\", \"char_name\", \"actor_DOB\", \"actor_gender\", \"actor_height\", \"actor_ethnicity\",\n",
    "           \"actor_name\", \"Actor_age\", \"freeID_char_map\", \"FreeID_char\", \"FreeID_actor\"])\n",
    "\n",
    "df_char_names = pd.read_csv('data/MovieSummaries/name.clusters.txt', sep=\"\\t\", header=None, \n",
    "    names=[\"char_name\", \"freeID_char_map\"])\n",
    "\n",
    "df_tropes = pd.read_csv('data/MovieSummaries/tvtropes.clusters.txt', sep='\\t', header=None, names=[\"trope\", \"details\"])"
   ]
  },
  {
   "cell_type": "markdown",
   "metadata": {},
   "source": [
    "## Data features and missing values"
   ]
  },
  {
   "cell_type": "code",
   "execution_count": 3,
   "metadata": {},
   "outputs": [
    {
     "data": {
      "text/html": [
       "<div>\n",
       "<style scoped>\n",
       "    .dataframe tbody tr th:only-of-type {\n",
       "        vertical-align: middle;\n",
       "    }\n",
       "\n",
       "    .dataframe tbody tr th {\n",
       "        vertical-align: top;\n",
       "    }\n",
       "\n",
       "    .dataframe thead th {\n",
       "        text-align: right;\n",
       "    }\n",
       "</style>\n",
       "<table border=\"1\" class=\"dataframe\">\n",
       "  <thead>\n",
       "    <tr style=\"text-align: right;\">\n",
       "      <th></th>\n",
       "      <th>wikiID</th>\n",
       "      <th>plot</th>\n",
       "    </tr>\n",
       "  </thead>\n",
       "  <tbody>\n",
       "    <tr>\n",
       "      <th>0</th>\n",
       "      <td>23890098</td>\n",
       "      <td>Shlykov, a hard-working taxi driver and Lyosha...</td>\n",
       "    </tr>\n",
       "    <tr>\n",
       "      <th>1</th>\n",
       "      <td>31186339</td>\n",
       "      <td>The nation of Panem consists of a wealthy Capi...</td>\n",
       "    </tr>\n",
       "    <tr>\n",
       "      <th>2</th>\n",
       "      <td>20663735</td>\n",
       "      <td>Poovalli Induchoodan  is sentenced for six yea...</td>\n",
       "    </tr>\n",
       "    <tr>\n",
       "      <th>3</th>\n",
       "      <td>2231378</td>\n",
       "      <td>The Lemon Drop Kid , a New York City swindler,...</td>\n",
       "    </tr>\n",
       "    <tr>\n",
       "      <th>4</th>\n",
       "      <td>595909</td>\n",
       "      <td>Seventh-day Adventist Church pastor Michael Ch...</td>\n",
       "    </tr>\n",
       "  </tbody>\n",
       "</table>\n",
       "</div>"
      ],
      "text/plain": [
       "     wikiID                                               plot\n",
       "0  23890098  Shlykov, a hard-working taxi driver and Lyosha...\n",
       "1  31186339  The nation of Panem consists of a wealthy Capi...\n",
       "2  20663735  Poovalli Induchoodan  is sentenced for six yea...\n",
       "3   2231378  The Lemon Drop Kid , a New York City swindler,...\n",
       "4    595909  Seventh-day Adventist Church pastor Michael Ch..."
      ]
     },
     "execution_count": 3,
     "metadata": {},
     "output_type": "execute_result"
    }
   ],
   "source": [
    "df_plot.head()"
   ]
  },
  {
   "cell_type": "code",
   "execution_count": 4,
   "metadata": {},
   "outputs": [
    {
     "name": "stdout",
     "output_type": "stream",
     "text": [
      "<class 'pandas.core.frame.DataFrame'>\n",
      "RangeIndex: 42303 entries, 0 to 42302\n",
      "Data columns (total 2 columns):\n",
      " #   Column  Non-Null Count  Dtype \n",
      "---  ------  --------------  ----- \n",
      " 0   wikiID  42303 non-null  int64 \n",
      " 1   plot    42303 non-null  object\n",
      "dtypes: int64(1), object(1)\n",
      "memory usage: 661.1+ KB\n"
     ]
    }
   ],
   "source": [
    "df_plot.info()"
   ]
  },
  {
   "cell_type": "code",
   "execution_count": 5,
   "metadata": {},
   "outputs": [
    {
     "data": {
      "text/html": [
       "<div>\n",
       "<style scoped>\n",
       "    .dataframe tbody tr th:only-of-type {\n",
       "        vertical-align: middle;\n",
       "    }\n",
       "\n",
       "    .dataframe tbody tr th {\n",
       "        vertical-align: top;\n",
       "    }\n",
       "\n",
       "    .dataframe thead th {\n",
       "        text-align: right;\n",
       "    }\n",
       "</style>\n",
       "<table border=\"1\" class=\"dataframe\">\n",
       "  <thead>\n",
       "    <tr style=\"text-align: right;\">\n",
       "      <th></th>\n",
       "      <th>wikiID</th>\n",
       "      <th>freeID</th>\n",
       "      <th>name</th>\n",
       "      <th>release_date</th>\n",
       "      <th>revenue</th>\n",
       "      <th>runtime</th>\n",
       "      <th>languages</th>\n",
       "      <th>countries</th>\n",
       "      <th>genres</th>\n",
       "    </tr>\n",
       "  </thead>\n",
       "  <tbody>\n",
       "    <tr>\n",
       "      <th>0</th>\n",
       "      <td>975900</td>\n",
       "      <td>/m/03vyhn</td>\n",
       "      <td>Ghosts of Mars</td>\n",
       "      <td>2001-08-24</td>\n",
       "      <td>14010832.0</td>\n",
       "      <td>98.0</td>\n",
       "      <td>{\"/m/02h40lc\": \"English Language\"}</td>\n",
       "      <td>{\"/m/09c7w0\": \"United States of America\"}</td>\n",
       "      <td>{\"/m/01jfsb\": \"Thriller\", \"/m/06n90\": \"Science...</td>\n",
       "    </tr>\n",
       "    <tr>\n",
       "      <th>1</th>\n",
       "      <td>3196793</td>\n",
       "      <td>/m/08yl5d</td>\n",
       "      <td>Getting Away with Murder: The JonBenét Ramsey ...</td>\n",
       "      <td>2000-02-16</td>\n",
       "      <td>NaN</td>\n",
       "      <td>95.0</td>\n",
       "      <td>{\"/m/02h40lc\": \"English Language\"}</td>\n",
       "      <td>{\"/m/09c7w0\": \"United States of America\"}</td>\n",
       "      <td>{\"/m/02n4kr\": \"Mystery\", \"/m/03bxz7\": \"Biograp...</td>\n",
       "    </tr>\n",
       "    <tr>\n",
       "      <th>2</th>\n",
       "      <td>28463795</td>\n",
       "      <td>/m/0crgdbh</td>\n",
       "      <td>Brun bitter</td>\n",
       "      <td>1988</td>\n",
       "      <td>NaN</td>\n",
       "      <td>83.0</td>\n",
       "      <td>{\"/m/05f_3\": \"Norwegian Language\"}</td>\n",
       "      <td>{\"/m/05b4w\": \"Norway\"}</td>\n",
       "      <td>{\"/m/0lsxr\": \"Crime Fiction\", \"/m/07s9rl0\": \"D...</td>\n",
       "    </tr>\n",
       "    <tr>\n",
       "      <th>3</th>\n",
       "      <td>9363483</td>\n",
       "      <td>/m/0285_cd</td>\n",
       "      <td>White Of The Eye</td>\n",
       "      <td>1987</td>\n",
       "      <td>NaN</td>\n",
       "      <td>110.0</td>\n",
       "      <td>{\"/m/02h40lc\": \"English Language\"}</td>\n",
       "      <td>{\"/m/07ssc\": \"United Kingdom\"}</td>\n",
       "      <td>{\"/m/01jfsb\": \"Thriller\", \"/m/0glj9q\": \"Erotic...</td>\n",
       "    </tr>\n",
       "    <tr>\n",
       "      <th>4</th>\n",
       "      <td>261236</td>\n",
       "      <td>/m/01mrr1</td>\n",
       "      <td>A Woman in Flames</td>\n",
       "      <td>1983</td>\n",
       "      <td>NaN</td>\n",
       "      <td>106.0</td>\n",
       "      <td>{\"/m/04306rv\": \"German Language\"}</td>\n",
       "      <td>{\"/m/0345h\": \"Germany\"}</td>\n",
       "      <td>{\"/m/07s9rl0\": \"Drama\"}</td>\n",
       "    </tr>\n",
       "  </tbody>\n",
       "</table>\n",
       "</div>"
      ],
      "text/plain": [
       "     wikiID      freeID                                               name  \\\n",
       "0    975900   /m/03vyhn                                     Ghosts of Mars   \n",
       "1   3196793   /m/08yl5d  Getting Away with Murder: The JonBenét Ramsey ...   \n",
       "2  28463795  /m/0crgdbh                                        Brun bitter   \n",
       "3   9363483  /m/0285_cd                                   White Of The Eye   \n",
       "4    261236   /m/01mrr1                                  A Woman in Flames   \n",
       "\n",
       "  release_date     revenue  runtime                           languages  \\\n",
       "0   2001-08-24  14010832.0     98.0  {\"/m/02h40lc\": \"English Language\"}   \n",
       "1   2000-02-16         NaN     95.0  {\"/m/02h40lc\": \"English Language\"}   \n",
       "2         1988         NaN     83.0  {\"/m/05f_3\": \"Norwegian Language\"}   \n",
       "3         1987         NaN    110.0  {\"/m/02h40lc\": \"English Language\"}   \n",
       "4         1983         NaN    106.0   {\"/m/04306rv\": \"German Language\"}   \n",
       "\n",
       "                                   countries  \\\n",
       "0  {\"/m/09c7w0\": \"United States of America\"}   \n",
       "1  {\"/m/09c7w0\": \"United States of America\"}   \n",
       "2                     {\"/m/05b4w\": \"Norway\"}   \n",
       "3             {\"/m/07ssc\": \"United Kingdom\"}   \n",
       "4                    {\"/m/0345h\": \"Germany\"}   \n",
       "\n",
       "                                              genres  \n",
       "0  {\"/m/01jfsb\": \"Thriller\", \"/m/06n90\": \"Science...  \n",
       "1  {\"/m/02n4kr\": \"Mystery\", \"/m/03bxz7\": \"Biograp...  \n",
       "2  {\"/m/0lsxr\": \"Crime Fiction\", \"/m/07s9rl0\": \"D...  \n",
       "3  {\"/m/01jfsb\": \"Thriller\", \"/m/0glj9q\": \"Erotic...  \n",
       "4                            {\"/m/07s9rl0\": \"Drama\"}  "
      ]
     },
     "execution_count": 5,
     "metadata": {},
     "output_type": "execute_result"
    }
   ],
   "source": [
    "df_meta.head()"
   ]
  },
  {
   "cell_type": "code",
   "execution_count": 6,
   "metadata": {},
   "outputs": [
    {
     "name": "stdout",
     "output_type": "stream",
     "text": [
      "<class 'pandas.core.frame.DataFrame'>\n",
      "RangeIndex: 81741 entries, 0 to 81740\n",
      "Data columns (total 9 columns):\n",
      " #   Column        Non-Null Count  Dtype  \n",
      "---  ------        --------------  -----  \n",
      " 0   wikiID        81741 non-null  int64  \n",
      " 1   freeID        81741 non-null  object \n",
      " 2   name          81741 non-null  object \n",
      " 3   release_date  74839 non-null  object \n",
      " 4   revenue       8401 non-null   float64\n",
      " 5   runtime       61291 non-null  float64\n",
      " 6   languages     81741 non-null  object \n",
      " 7   countries     81741 non-null  object \n",
      " 8   genres        81741 non-null  object \n",
      "dtypes: float64(2), int64(1), object(6)\n",
      "memory usage: 5.6+ MB\n"
     ]
    }
   ],
   "source": [
    "df_meta.info()"
   ]
  },
  {
   "cell_type": "markdown",
   "metadata": {},
   "source": [
    "Looking at the output above, we might think that the languages, countries and genres columns have no missing elements but actually some elements are just empty dictionary values"
   ]
  },
  {
   "cell_type": "code",
   "execution_count": 7,
   "metadata": {},
   "outputs": [
    {
     "name": "stdout",
     "output_type": "stream",
     "text": [
      "13866\n",
      "8154\n",
      "2294\n"
     ]
    }
   ],
   "source": [
    "print(df_meta['languages'].value_counts()['{}'])\n",
    "print(df_meta['countries'].value_counts()['{}'])\n",
    "print(df_meta['genres'].value_counts()['{}'])"
   ]
  },
  {
   "cell_type": "markdown",
   "metadata": {},
   "source": [
    "Also, if we want to make use of the release date we can already convert it to datetime and check if we have more missing values."
   ]
  },
  {
   "cell_type": "code",
   "execution_count": 8,
   "metadata": {},
   "outputs": [
    {
     "name": "stdout",
     "output_type": "stream",
     "text": [
      "74838\n"
     ]
    }
   ],
   "source": [
    "df_meta['release_date'] = pd.to_datetime(df_meta['release_date'], errors = 'coerce')\n",
    "print(df_meta['release_date'].shape[0] - df_meta['release_date'].isnull().sum())"
   ]
  },
  {
   "cell_type": "code",
   "execution_count": 9,
   "metadata": {},
   "outputs": [
    {
     "data": {
      "text/html": [
       "<div>\n",
       "<style scoped>\n",
       "    .dataframe tbody tr th:only-of-type {\n",
       "        vertical-align: middle;\n",
       "    }\n",
       "\n",
       "    .dataframe tbody tr th {\n",
       "        vertical-align: top;\n",
       "    }\n",
       "\n",
       "    .dataframe thead th {\n",
       "        text-align: right;\n",
       "    }\n",
       "</style>\n",
       "<table border=\"1\" class=\"dataframe\">\n",
       "  <thead>\n",
       "    <tr style=\"text-align: right;\">\n",
       "      <th></th>\n",
       "      <th>WikiID</th>\n",
       "      <th>freeID</th>\n",
       "      <th>release_date</th>\n",
       "      <th>char_name</th>\n",
       "      <th>actor_DOB</th>\n",
       "      <th>actor_gender</th>\n",
       "      <th>actor_height</th>\n",
       "      <th>actor_ethnicity</th>\n",
       "      <th>actor_name</th>\n",
       "      <th>Actor_age</th>\n",
       "      <th>freeID_char_map</th>\n",
       "      <th>FreeID_char</th>\n",
       "      <th>FreeID_actor</th>\n",
       "    </tr>\n",
       "  </thead>\n",
       "  <tbody>\n",
       "    <tr>\n",
       "      <th>0</th>\n",
       "      <td>975900</td>\n",
       "      <td>/m/03vyhn</td>\n",
       "      <td>2001-08-24</td>\n",
       "      <td>Akooshay</td>\n",
       "      <td>1958-08-26</td>\n",
       "      <td>F</td>\n",
       "      <td>1.620</td>\n",
       "      <td>NaN</td>\n",
       "      <td>Wanda De Jesus</td>\n",
       "      <td>42.0</td>\n",
       "      <td>/m/0bgchxw</td>\n",
       "      <td>/m/0bgcj3x</td>\n",
       "      <td>/m/03wcfv7</td>\n",
       "    </tr>\n",
       "    <tr>\n",
       "      <th>1</th>\n",
       "      <td>975900</td>\n",
       "      <td>/m/03vyhn</td>\n",
       "      <td>2001-08-24</td>\n",
       "      <td>Lieutenant Melanie Ballard</td>\n",
       "      <td>1974-08-15</td>\n",
       "      <td>F</td>\n",
       "      <td>1.780</td>\n",
       "      <td>/m/044038p</td>\n",
       "      <td>Natasha Henstridge</td>\n",
       "      <td>27.0</td>\n",
       "      <td>/m/0jys3m</td>\n",
       "      <td>/m/0bgchn4</td>\n",
       "      <td>/m/0346l4</td>\n",
       "    </tr>\n",
       "    <tr>\n",
       "      <th>2</th>\n",
       "      <td>975900</td>\n",
       "      <td>/m/03vyhn</td>\n",
       "      <td>2001-08-24</td>\n",
       "      <td>Desolation Williams</td>\n",
       "      <td>1969-06-15</td>\n",
       "      <td>M</td>\n",
       "      <td>1.727</td>\n",
       "      <td>/m/0x67</td>\n",
       "      <td>Ice Cube</td>\n",
       "      <td>32.0</td>\n",
       "      <td>/m/0jys3g</td>\n",
       "      <td>/m/0bgchn_</td>\n",
       "      <td>/m/01vw26l</td>\n",
       "    </tr>\n",
       "    <tr>\n",
       "      <th>3</th>\n",
       "      <td>975900</td>\n",
       "      <td>/m/03vyhn</td>\n",
       "      <td>2001-08-24</td>\n",
       "      <td>Sgt Jericho Butler</td>\n",
       "      <td>1967-09-12</td>\n",
       "      <td>M</td>\n",
       "      <td>1.750</td>\n",
       "      <td>NaN</td>\n",
       "      <td>Jason Statham</td>\n",
       "      <td>33.0</td>\n",
       "      <td>/m/02vchl6</td>\n",
       "      <td>/m/0bgchnq</td>\n",
       "      <td>/m/034hyc</td>\n",
       "    </tr>\n",
       "    <tr>\n",
       "      <th>4</th>\n",
       "      <td>975900</td>\n",
       "      <td>/m/03vyhn</td>\n",
       "      <td>2001-08-24</td>\n",
       "      <td>Bashira Kincaid</td>\n",
       "      <td>1977-09-25</td>\n",
       "      <td>F</td>\n",
       "      <td>1.650</td>\n",
       "      <td>NaN</td>\n",
       "      <td>Clea DuVall</td>\n",
       "      <td>23.0</td>\n",
       "      <td>/m/02vbb3r</td>\n",
       "      <td>/m/0bgchp9</td>\n",
       "      <td>/m/01y9xg</td>\n",
       "    </tr>\n",
       "  </tbody>\n",
       "</table>\n",
       "</div>"
      ],
      "text/plain": [
       "   WikiID     freeID release_date                   char_name   actor_DOB  \\\n",
       "0  975900  /m/03vyhn   2001-08-24                    Akooshay  1958-08-26   \n",
       "1  975900  /m/03vyhn   2001-08-24  Lieutenant Melanie Ballard  1974-08-15   \n",
       "2  975900  /m/03vyhn   2001-08-24         Desolation Williams  1969-06-15   \n",
       "3  975900  /m/03vyhn   2001-08-24          Sgt Jericho Butler  1967-09-12   \n",
       "4  975900  /m/03vyhn   2001-08-24             Bashira Kincaid  1977-09-25   \n",
       "\n",
       "  actor_gender  actor_height actor_ethnicity          actor_name  Actor_age  \\\n",
       "0            F         1.620             NaN      Wanda De Jesus       42.0   \n",
       "1            F         1.780      /m/044038p  Natasha Henstridge       27.0   \n",
       "2            M         1.727         /m/0x67            Ice Cube       32.0   \n",
       "3            M         1.750             NaN       Jason Statham       33.0   \n",
       "4            F         1.650             NaN         Clea DuVall       23.0   \n",
       "\n",
       "  freeID_char_map FreeID_char FreeID_actor  \n",
       "0      /m/0bgchxw  /m/0bgcj3x   /m/03wcfv7  \n",
       "1       /m/0jys3m  /m/0bgchn4    /m/0346l4  \n",
       "2       /m/0jys3g  /m/0bgchn_   /m/01vw26l  \n",
       "3      /m/02vchl6  /m/0bgchnq    /m/034hyc  \n",
       "4      /m/02vbb3r  /m/0bgchp9    /m/01y9xg  "
      ]
     },
     "execution_count": 9,
     "metadata": {},
     "output_type": "execute_result"
    }
   ],
   "source": [
    "df_char.head()"
   ]
  },
  {
   "cell_type": "code",
   "execution_count": 10,
   "metadata": {},
   "outputs": [
    {
     "name": "stdout",
     "output_type": "stream",
     "text": [
      "<class 'pandas.core.frame.DataFrame'>\n",
      "RangeIndex: 450669 entries, 0 to 450668\n",
      "Data columns (total 13 columns):\n",
      " #   Column           Non-Null Count   Dtype  \n",
      "---  ------           --------------   -----  \n",
      " 0   WikiID           450669 non-null  int64  \n",
      " 1   freeID           450669 non-null  object \n",
      " 2   release_date     440674 non-null  object \n",
      " 3   char_name        192794 non-null  object \n",
      " 4   actor_DOB        344524 non-null  object \n",
      " 5   actor_gender     405060 non-null  object \n",
      " 6   actor_height     154824 non-null  float64\n",
      " 7   actor_ethnicity  106058 non-null  object \n",
      " 8   actor_name       449441 non-null  object \n",
      " 9   Actor_age        292556 non-null  float64\n",
      " 10  freeID_char_map  450669 non-null  object \n",
      " 11  FreeID_char      192804 non-null  object \n",
      " 12  FreeID_actor     449854 non-null  object \n",
      "dtypes: float64(2), int64(1), object(10)\n",
      "memory usage: 44.7+ MB\n"
     ]
    }
   ],
   "source": [
    "df_char.info()"
   ]
  },
  {
   "cell_type": "code",
   "execution_count": 11,
   "metadata": {},
   "outputs": [
    {
     "data": {
      "text/html": [
       "<div>\n",
       "<style scoped>\n",
       "    .dataframe tbody tr th:only-of-type {\n",
       "        vertical-align: middle;\n",
       "    }\n",
       "\n",
       "    .dataframe tbody tr th {\n",
       "        vertical-align: top;\n",
       "    }\n",
       "\n",
       "    .dataframe thead th {\n",
       "        text-align: right;\n",
       "    }\n",
       "</style>\n",
       "<table border=\"1\" class=\"dataframe\">\n",
       "  <thead>\n",
       "    <tr style=\"text-align: right;\">\n",
       "      <th></th>\n",
       "      <th>char_name</th>\n",
       "      <th>freeID_char_map</th>\n",
       "    </tr>\n",
       "  </thead>\n",
       "  <tbody>\n",
       "    <tr>\n",
       "      <th>0</th>\n",
       "      <td>Stuart Little</td>\n",
       "      <td>/m/0k3w9c</td>\n",
       "    </tr>\n",
       "    <tr>\n",
       "      <th>1</th>\n",
       "      <td>Stuart Little</td>\n",
       "      <td>/m/0k3wcx</td>\n",
       "    </tr>\n",
       "    <tr>\n",
       "      <th>2</th>\n",
       "      <td>Stuart Little</td>\n",
       "      <td>/m/0k3wbn</td>\n",
       "    </tr>\n",
       "    <tr>\n",
       "      <th>3</th>\n",
       "      <td>John Doe</td>\n",
       "      <td>/m/0jyg35</td>\n",
       "    </tr>\n",
       "    <tr>\n",
       "      <th>4</th>\n",
       "      <td>John Doe</td>\n",
       "      <td>/m/0k2_zn</td>\n",
       "    </tr>\n",
       "  </tbody>\n",
       "</table>\n",
       "</div>"
      ],
      "text/plain": [
       "       char_name freeID_char_map\n",
       "0  Stuart Little       /m/0k3w9c\n",
       "1  Stuart Little       /m/0k3wcx\n",
       "2  Stuart Little       /m/0k3wbn\n",
       "3       John Doe       /m/0jyg35\n",
       "4       John Doe       /m/0k2_zn"
      ]
     },
     "execution_count": 11,
     "metadata": {},
     "output_type": "execute_result"
    }
   ],
   "source": [
    "df_char_names.head()"
   ]
  },
  {
   "cell_type": "code",
   "execution_count": 12,
   "metadata": {},
   "outputs": [
    {
     "name": "stdout",
     "output_type": "stream",
     "text": [
      "<class 'pandas.core.frame.DataFrame'>\n",
      "RangeIndex: 2666 entries, 0 to 2665\n",
      "Data columns (total 2 columns):\n",
      " #   Column           Non-Null Count  Dtype \n",
      "---  ------           --------------  ----- \n",
      " 0   char_name        2666 non-null   object\n",
      " 1   freeID_char_map  2666 non-null   object\n",
      "dtypes: object(2)\n",
      "memory usage: 41.8+ KB\n"
     ]
    }
   ],
   "source": [
    "df_char_names.info()"
   ]
  },
  {
   "cell_type": "code",
   "execution_count": 13,
   "metadata": {},
   "outputs": [
    {
     "data": {
      "text/html": [
       "<div>\n",
       "<style scoped>\n",
       "    .dataframe tbody tr th:only-of-type {\n",
       "        vertical-align: middle;\n",
       "    }\n",
       "\n",
       "    .dataframe tbody tr th {\n",
       "        vertical-align: top;\n",
       "    }\n",
       "\n",
       "    .dataframe thead th {\n",
       "        text-align: right;\n",
       "    }\n",
       "</style>\n",
       "<table border=\"1\" class=\"dataframe\">\n",
       "  <thead>\n",
       "    <tr style=\"text-align: right;\">\n",
       "      <th></th>\n",
       "      <th>trope</th>\n",
       "      <th>details</th>\n",
       "    </tr>\n",
       "  </thead>\n",
       "  <tbody>\n",
       "    <tr>\n",
       "      <th>0</th>\n",
       "      <td>absent_minded_professor</td>\n",
       "      <td>{\"char\": \"Professor Philip Brainard\", \"movie\":...</td>\n",
       "    </tr>\n",
       "    <tr>\n",
       "      <th>1</th>\n",
       "      <td>absent_minded_professor</td>\n",
       "      <td>{\"char\": \"Professor Keenbean\", \"movie\": \"Richi...</td>\n",
       "    </tr>\n",
       "    <tr>\n",
       "      <th>2</th>\n",
       "      <td>absent_minded_professor</td>\n",
       "      <td>{\"char\": \"Dr. Reinhardt Lane\", \"movie\": \"The S...</td>\n",
       "    </tr>\n",
       "    <tr>\n",
       "      <th>3</th>\n",
       "      <td>absent_minded_professor</td>\n",
       "      <td>{\"char\": \"Dr. Harold Medford\", \"movie\": \"Them!...</td>\n",
       "    </tr>\n",
       "    <tr>\n",
       "      <th>4</th>\n",
       "      <td>absent_minded_professor</td>\n",
       "      <td>{\"char\": \"Daniel Jackson\", \"movie\": \"Stargate\"...</td>\n",
       "    </tr>\n",
       "  </tbody>\n",
       "</table>\n",
       "</div>"
      ],
      "text/plain": [
       "                     trope                                            details\n",
       "0  absent_minded_professor  {\"char\": \"Professor Philip Brainard\", \"movie\":...\n",
       "1  absent_minded_professor  {\"char\": \"Professor Keenbean\", \"movie\": \"Richi...\n",
       "2  absent_minded_professor  {\"char\": \"Dr. Reinhardt Lane\", \"movie\": \"The S...\n",
       "3  absent_minded_professor  {\"char\": \"Dr. Harold Medford\", \"movie\": \"Them!...\n",
       "4  absent_minded_professor  {\"char\": \"Daniel Jackson\", \"movie\": \"Stargate\"..."
      ]
     },
     "execution_count": 13,
     "metadata": {},
     "output_type": "execute_result"
    }
   ],
   "source": [
    "df_tropes.head()"
   ]
  },
  {
   "cell_type": "code",
   "execution_count": 14,
   "metadata": {},
   "outputs": [
    {
     "data": {
      "text/html": [
       "<div>\n",
       "<style scoped>\n",
       "    .dataframe tbody tr th:only-of-type {\n",
       "        vertical-align: middle;\n",
       "    }\n",
       "\n",
       "    .dataframe tbody tr th {\n",
       "        vertical-align: top;\n",
       "    }\n",
       "\n",
       "    .dataframe thead th {\n",
       "        text-align: right;\n",
       "    }\n",
       "</style>\n",
       "<table border=\"1\" class=\"dataframe\">\n",
       "  <thead>\n",
       "    <tr style=\"text-align: right;\">\n",
       "      <th></th>\n",
       "      <th>trope</th>\n",
       "      <th>char</th>\n",
       "      <th>movie</th>\n",
       "      <th>freeID_char_map</th>\n",
       "      <th>actor</th>\n",
       "    </tr>\n",
       "  </thead>\n",
       "  <tbody>\n",
       "    <tr>\n",
       "      <th>0</th>\n",
       "      <td>absent_minded_professor</td>\n",
       "      <td>Professor Philip Brainard</td>\n",
       "      <td>Flubber</td>\n",
       "      <td>/m/0jy9q0</td>\n",
       "      <td>Robin Williams</td>\n",
       "    </tr>\n",
       "    <tr>\n",
       "      <th>1</th>\n",
       "      <td>absent_minded_professor</td>\n",
       "      <td>Professor Keenbean</td>\n",
       "      <td>Richie Rich</td>\n",
       "      <td>/m/02vchl3</td>\n",
       "      <td>Michael McShane</td>\n",
       "    </tr>\n",
       "    <tr>\n",
       "      <th>2</th>\n",
       "      <td>absent_minded_professor</td>\n",
       "      <td>Dr. Reinhardt Lane</td>\n",
       "      <td>The Shadow</td>\n",
       "      <td>/m/0k6fkc</td>\n",
       "      <td>Ian McKellen</td>\n",
       "    </tr>\n",
       "    <tr>\n",
       "      <th>3</th>\n",
       "      <td>absent_minded_professor</td>\n",
       "      <td>Dr. Harold Medford</td>\n",
       "      <td>Them!</td>\n",
       "      <td>/m/0k6_br</td>\n",
       "      <td>Edmund Gwenn</td>\n",
       "    </tr>\n",
       "    <tr>\n",
       "      <th>4</th>\n",
       "      <td>absent_minded_professor</td>\n",
       "      <td>Daniel Jackson</td>\n",
       "      <td>Stargate</td>\n",
       "      <td>/m/0k3rhh</td>\n",
       "      <td>James Spader</td>\n",
       "    </tr>\n",
       "  </tbody>\n",
       "</table>\n",
       "</div>"
      ],
      "text/plain": [
       "                     trope                       char        movie  \\\n",
       "0  absent_minded_professor  Professor Philip Brainard      Flubber   \n",
       "1  absent_minded_professor         Professor Keenbean  Richie Rich   \n",
       "2  absent_minded_professor         Dr. Reinhardt Lane   The Shadow   \n",
       "3  absent_minded_professor         Dr. Harold Medford        Them!   \n",
       "4  absent_minded_professor             Daniel Jackson     Stargate   \n",
       "\n",
       "  freeID_char_map            actor  \n",
       "0       /m/0jy9q0   Robin Williams  \n",
       "1      /m/02vchl3  Michael McShane  \n",
       "2       /m/0k6fkc     Ian McKellen  \n",
       "3       /m/0k6_br     Edmund Gwenn  \n",
       "4       /m/0k3rhh     James Spader  "
      ]
     },
     "execution_count": 14,
     "metadata": {},
     "output_type": "execute_result"
    }
   ],
   "source": [
    "df_tropes = df_tropes.drop([\"details\"], axis=1).join(pd.json_normalize(df_tropes[\"details\"].map(json.loads).tolist())).rename(\n",
    "    columns={\"id\":\"freeID_char_map\"})\n",
    "\n",
    "df_tropes.head()"
   ]
  },
  {
   "cell_type": "code",
   "execution_count": 15,
   "metadata": {},
   "outputs": [
    {
     "name": "stdout",
     "output_type": "stream",
     "text": [
      "<class 'pandas.core.frame.DataFrame'>\n",
      "RangeIndex: 501 entries, 0 to 500\n",
      "Data columns (total 5 columns):\n",
      " #   Column           Non-Null Count  Dtype \n",
      "---  ------           --------------  ----- \n",
      " 0   trope            501 non-null    object\n",
      " 1   char             501 non-null    object\n",
      " 2   movie            501 non-null    object\n",
      " 3   freeID_char_map  501 non-null    object\n",
      " 4   actor            501 non-null    object\n",
      "dtypes: object(5)\n",
      "memory usage: 19.7+ KB\n"
     ]
    }
   ],
   "source": [
    "df_tropes.info()"
   ]
  },
  {
   "cell_type": "markdown",
   "metadata": {},
   "source": [
    "---\n",
    "## NLPCore"
   ]
  },
  {
   "cell_type": "markdown",
   "metadata": {},
   "source": [
    "After we looked at the Stanford CoreNLP-processed summaries, we assumed it would not be useful for us.\n",
    "\n",
    "The code below is an example where we load and parse the data to retrieve an element."
   ]
  },
  {
   "cell_type": "code",
   "execution_count": 16,
   "metadata": {},
   "outputs": [
    {
     "name": "stdout",
     "output_type": "stream",
     "text": [
      "10000053.xml.gz\n",
      "O\n"
     ]
    }
   ],
   "source": [
    "import gzip\n",
    "import os\n",
    "from bs4 import BeautifulSoup\n",
    "\n",
    "path = \"data/corenlp_plot_summaries/\"\n",
    "files = os.listdir(path)\n",
    "print(files[0])\n",
    "f = gzip.open(path+files[0], 'rb')\n",
    "\n",
    "test = f.read().decode()\n",
    "# print(test)\n",
    "\n",
    "Bs_data = BeautifulSoup(test, \"xml\")\n",
    "print(Bs_data.find(\"sentence\", {'id':'20'}).find('NER').text)"
   ]
  },
  {
   "cell_type": "markdown",
   "metadata": {},
   "source": [
    "---\n",
    "## Exploratory data analysis"
   ]
  },
  {
   "cell_type": "markdown",
   "metadata": {},
   "source": [
    "### Genres, languages and countries"
   ]
  },
  {
   "cell_type": "markdown",
   "metadata": {},
   "source": [
    "We want to identify the most represented genres, languages and countries."
   ]
  },
  {
   "cell_type": "code",
   "execution_count": 17,
   "metadata": {},
   "outputs": [],
   "source": [
    "def fcount(df):\n",
    "    df2 = pd.DataFrame(data={\n",
    "        'id': df.apply(lambda x: list(json.loads(x).keys())),\n",
    "        'name': df.apply(lambda x: list(json.loads(x).values()))\n",
    "    })\n",
    "    \n",
    "    distinctf = []\n",
    "    counter = []\n",
    "\n",
    "    for i in range(df2.shape[0]):\n",
    "        fid = df2[\"id\"].iloc[i]\n",
    "        fname = df2[\"name\"].iloc[i]\n",
    "        for j in range(len(fid)):\n",
    "            if [fid[j], fname[j]] not in distinctf:\n",
    "                distinctf.append([fid[j], fname[j]])\n",
    "                counter.append(1)\n",
    "            else:\n",
    "                counter[distinctf.index([fid[j], fname[j]])] += 1\n",
    "\n",
    "    new = pd.DataFrame(data={\n",
    "        'id': [s[0] for s in distinctf],\n",
    "        'name': [s[1] for s in distinctf],\n",
    "        'count': counter\n",
    "    })\n",
    "    \n",
    "    return new.sort_values(by=\"count\", ascending=False, ignore_index=True)"
   ]
  },
  {
   "cell_type": "code",
   "execution_count": 18,
   "metadata": {},
   "outputs": [
    {
     "data": {
      "text/html": [
       "<div>\n",
       "<style scoped>\n",
       "    .dataframe tbody tr th:only-of-type {\n",
       "        vertical-align: middle;\n",
       "    }\n",
       "\n",
       "    .dataframe tbody tr th {\n",
       "        vertical-align: top;\n",
       "    }\n",
       "\n",
       "    .dataframe thead th {\n",
       "        text-align: right;\n",
       "    }\n",
       "</style>\n",
       "<table border=\"1\" class=\"dataframe\">\n",
       "  <thead>\n",
       "    <tr style=\"text-align: right;\">\n",
       "      <th></th>\n",
       "      <th>id</th>\n",
       "      <th>name</th>\n",
       "      <th>count</th>\n",
       "    </tr>\n",
       "  </thead>\n",
       "  <tbody>\n",
       "    <tr>\n",
       "      <th>0</th>\n",
       "      <td>/m/07s9rl0</td>\n",
       "      <td>Drama</td>\n",
       "      <td>34007</td>\n",
       "    </tr>\n",
       "    <tr>\n",
       "      <th>1</th>\n",
       "      <td>/m/01z4y</td>\n",
       "      <td>Comedy</td>\n",
       "      <td>16349</td>\n",
       "    </tr>\n",
       "    <tr>\n",
       "      <th>2</th>\n",
       "      <td>/m/02l7c8</td>\n",
       "      <td>Romance Film</td>\n",
       "      <td>10234</td>\n",
       "    </tr>\n",
       "    <tr>\n",
       "      <th>3</th>\n",
       "      <td>/m/01g6gs</td>\n",
       "      <td>Black-and-white</td>\n",
       "      <td>9094</td>\n",
       "    </tr>\n",
       "    <tr>\n",
       "      <th>4</th>\n",
       "      <td>/m/02kdv5l</td>\n",
       "      <td>Action</td>\n",
       "      <td>8798</td>\n",
       "    </tr>\n",
       "    <tr>\n",
       "      <th>5</th>\n",
       "      <td>/m/01jfsb</td>\n",
       "      <td>Thriller</td>\n",
       "      <td>8744</td>\n",
       "    </tr>\n",
       "    <tr>\n",
       "      <th>6</th>\n",
       "      <td>/m/02hmvc</td>\n",
       "      <td>Short Film</td>\n",
       "      <td>8141</td>\n",
       "    </tr>\n",
       "    <tr>\n",
       "      <th>7</th>\n",
       "      <td>/m/03q4nz</td>\n",
       "      <td>World cinema</td>\n",
       "      <td>7155</td>\n",
       "    </tr>\n",
       "    <tr>\n",
       "      <th>8</th>\n",
       "      <td>/m/0lsxr</td>\n",
       "      <td>Crime Fiction</td>\n",
       "      <td>6948</td>\n",
       "    </tr>\n",
       "    <tr>\n",
       "      <th>9</th>\n",
       "      <td>/m/0219x_</td>\n",
       "      <td>Indie</td>\n",
       "      <td>6897</td>\n",
       "    </tr>\n",
       "    <tr>\n",
       "      <th>10</th>\n",
       "      <td>/m/0jtdp</td>\n",
       "      <td>Documentary</td>\n",
       "      <td>5630</td>\n",
       "    </tr>\n",
       "    <tr>\n",
       "      <th>11</th>\n",
       "      <td>/m/03npn</td>\n",
       "      <td>Horror</td>\n",
       "      <td>5280</td>\n",
       "    </tr>\n",
       "    <tr>\n",
       "      <th>12</th>\n",
       "      <td>/m/06ppq</td>\n",
       "      <td>Silent film</td>\n",
       "      <td>5250</td>\n",
       "    </tr>\n",
       "    <tr>\n",
       "      <th>13</th>\n",
       "      <td>/m/03k9fj</td>\n",
       "      <td>Adventure</td>\n",
       "      <td>4963</td>\n",
       "    </tr>\n",
       "    <tr>\n",
       "      <th>14</th>\n",
       "      <td>/m/0hqxf</td>\n",
       "      <td>Family Film</td>\n",
       "      <td>4598</td>\n",
       "    </tr>\n",
       "    <tr>\n",
       "      <th>15</th>\n",
       "      <td>/m/03btsm8</td>\n",
       "      <td>Action/Adventure</td>\n",
       "      <td>4561</td>\n",
       "    </tr>\n",
       "    <tr>\n",
       "      <th>16</th>\n",
       "      <td>/m/05p553</td>\n",
       "      <td>Comedy film</td>\n",
       "      <td>4362</td>\n",
       "    </tr>\n",
       "    <tr>\n",
       "      <th>17</th>\n",
       "      <td>/m/04t36</td>\n",
       "      <td>Musical</td>\n",
       "      <td>4160</td>\n",
       "    </tr>\n",
       "    <tr>\n",
       "      <th>18</th>\n",
       "      <td>/m/0hcr</td>\n",
       "      <td>Animation</td>\n",
       "      <td>3534</td>\n",
       "    </tr>\n",
       "    <tr>\n",
       "      <th>19</th>\n",
       "      <td>/m/068d7h</td>\n",
       "      <td>Romantic drama</td>\n",
       "      <td>3372</td>\n",
       "    </tr>\n",
       "  </tbody>\n",
       "</table>\n",
       "</div>"
      ],
      "text/plain": [
       "            id              name  count\n",
       "0   /m/07s9rl0             Drama  34007\n",
       "1     /m/01z4y            Comedy  16349\n",
       "2    /m/02l7c8      Romance Film  10234\n",
       "3    /m/01g6gs   Black-and-white   9094\n",
       "4   /m/02kdv5l            Action   8798\n",
       "5    /m/01jfsb          Thriller   8744\n",
       "6    /m/02hmvc        Short Film   8141\n",
       "7    /m/03q4nz      World cinema   7155\n",
       "8     /m/0lsxr     Crime Fiction   6948\n",
       "9    /m/0219x_             Indie   6897\n",
       "10    /m/0jtdp       Documentary   5630\n",
       "11    /m/03npn            Horror   5280\n",
       "12    /m/06ppq       Silent film   5250\n",
       "13   /m/03k9fj         Adventure   4963\n",
       "14    /m/0hqxf       Family Film   4598\n",
       "15  /m/03btsm8  Action/Adventure   4561\n",
       "16   /m/05p553       Comedy film   4362\n",
       "17    /m/04t36           Musical   4160\n",
       "18     /m/0hcr         Animation   3534\n",
       "19   /m/068d7h    Romantic drama   3372"
      ]
     },
     "execution_count": 18,
     "metadata": {},
     "output_type": "execute_result"
    }
   ],
   "source": [
    "df_genre = fcount(df_meta[\"genres\"])\n",
    "df_genre.head(20)"
   ]
  },
  {
   "cell_type": "code",
   "execution_count": 19,
   "metadata": {},
   "outputs": [
    {
     "data": {
      "text/html": [
       "<div>\n",
       "<style scoped>\n",
       "    .dataframe tbody tr th:only-of-type {\n",
       "        vertical-align: middle;\n",
       "    }\n",
       "\n",
       "    .dataframe tbody tr th {\n",
       "        vertical-align: top;\n",
       "    }\n",
       "\n",
       "    .dataframe thead th {\n",
       "        text-align: right;\n",
       "    }\n",
       "</style>\n",
       "<table border=\"1\" class=\"dataframe\">\n",
       "  <thead>\n",
       "    <tr style=\"text-align: right;\">\n",
       "      <th></th>\n",
       "      <th>id</th>\n",
       "      <th>name</th>\n",
       "      <th>count</th>\n",
       "    </tr>\n",
       "  </thead>\n",
       "  <tbody>\n",
       "    <tr>\n",
       "      <th>0</th>\n",
       "      <td>/m/02h40lc</td>\n",
       "      <td>English Language</td>\n",
       "      <td>40891</td>\n",
       "    </tr>\n",
       "    <tr>\n",
       "      <th>1</th>\n",
       "      <td>/m/03k50</td>\n",
       "      <td>Hindi Language</td>\n",
       "      <td>3744</td>\n",
       "    </tr>\n",
       "    <tr>\n",
       "      <th>2</th>\n",
       "      <td>/m/06nm1</td>\n",
       "      <td>Spanish Language</td>\n",
       "      <td>3673</td>\n",
       "    </tr>\n",
       "    <tr>\n",
       "      <th>3</th>\n",
       "      <td>/m/064_8sq</td>\n",
       "      <td>French Language</td>\n",
       "      <td>3422</td>\n",
       "    </tr>\n",
       "    <tr>\n",
       "      <th>4</th>\n",
       "      <td>/m/06ppq</td>\n",
       "      <td>Silent film</td>\n",
       "      <td>3183</td>\n",
       "    </tr>\n",
       "    <tr>\n",
       "      <th>5</th>\n",
       "      <td>/m/02bjrlw</td>\n",
       "      <td>Italian Language</td>\n",
       "      <td>2531</td>\n",
       "    </tr>\n",
       "    <tr>\n",
       "      <th>6</th>\n",
       "      <td>/m/03_9r</td>\n",
       "      <td>Japanese Language</td>\n",
       "      <td>2295</td>\n",
       "    </tr>\n",
       "    <tr>\n",
       "      <th>7</th>\n",
       "      <td>/m/04306rv</td>\n",
       "      <td>German Language</td>\n",
       "      <td>2258</td>\n",
       "    </tr>\n",
       "    <tr>\n",
       "      <th>8</th>\n",
       "      <td>/m/07c9s</td>\n",
       "      <td>Tamil Language</td>\n",
       "      <td>1896</td>\n",
       "    </tr>\n",
       "    <tr>\n",
       "      <th>9</th>\n",
       "      <td>/m/0999q</td>\n",
       "      <td>Malayalam Language</td>\n",
       "      <td>1448</td>\n",
       "    </tr>\n",
       "    <tr>\n",
       "      <th>10</th>\n",
       "      <td>/m/0653m</td>\n",
       "      <td>Standard Mandarin</td>\n",
       "      <td>1213</td>\n",
       "    </tr>\n",
       "    <tr>\n",
       "      <th>11</th>\n",
       "      <td>/m/09s02</td>\n",
       "      <td>Telugu language</td>\n",
       "      <td>1197</td>\n",
       "    </tr>\n",
       "    <tr>\n",
       "      <th>12</th>\n",
       "      <td>/m/06b_j</td>\n",
       "      <td>Russian Language</td>\n",
       "      <td>1024</td>\n",
       "    </tr>\n",
       "    <tr>\n",
       "      <th>13</th>\n",
       "      <td>/m/012w70</td>\n",
       "      <td>Cantonese</td>\n",
       "      <td>876</td>\n",
       "    </tr>\n",
       "    <tr>\n",
       "      <th>14</th>\n",
       "      <td>/m/02hwhyv</td>\n",
       "      <td>Korean Language</td>\n",
       "      <td>779</td>\n",
       "    </tr>\n",
       "    <tr>\n",
       "      <th>15</th>\n",
       "      <td>/m/02bv9</td>\n",
       "      <td>Dutch Language</td>\n",
       "      <td>597</td>\n",
       "    </tr>\n",
       "    <tr>\n",
       "      <th>16</th>\n",
       "      <td>/m/06mp7</td>\n",
       "      <td>Swedish Language</td>\n",
       "      <td>509</td>\n",
       "    </tr>\n",
       "    <tr>\n",
       "      <th>17</th>\n",
       "      <td>/m/0jzc</td>\n",
       "      <td>Arabic Language</td>\n",
       "      <td>499</td>\n",
       "    </tr>\n",
       "    <tr>\n",
       "      <th>18</th>\n",
       "      <td>/m/0459q4</td>\n",
       "      <td>Standard Cantonese</td>\n",
       "      <td>481</td>\n",
       "    </tr>\n",
       "    <tr>\n",
       "      <th>19</th>\n",
       "      <td>/m/01wgr</td>\n",
       "      <td>Czech Language</td>\n",
       "      <td>478</td>\n",
       "    </tr>\n",
       "  </tbody>\n",
       "</table>\n",
       "</div>"
      ],
      "text/plain": [
       "            id                name  count\n",
       "0   /m/02h40lc    English Language  40891\n",
       "1     /m/03k50      Hindi Language   3744\n",
       "2     /m/06nm1    Spanish Language   3673\n",
       "3   /m/064_8sq     French Language   3422\n",
       "4     /m/06ppq         Silent film   3183\n",
       "5   /m/02bjrlw    Italian Language   2531\n",
       "6     /m/03_9r   Japanese Language   2295\n",
       "7   /m/04306rv     German Language   2258\n",
       "8     /m/07c9s      Tamil Language   1896\n",
       "9     /m/0999q  Malayalam Language   1448\n",
       "10    /m/0653m   Standard Mandarin   1213\n",
       "11    /m/09s02     Telugu language   1197\n",
       "12    /m/06b_j    Russian Language   1024\n",
       "13   /m/012w70           Cantonese    876\n",
       "14  /m/02hwhyv     Korean Language    779\n",
       "15    /m/02bv9      Dutch Language    597\n",
       "16    /m/06mp7    Swedish Language    509\n",
       "17     /m/0jzc     Arabic Language    499\n",
       "18   /m/0459q4  Standard Cantonese    481\n",
       "19    /m/01wgr      Czech Language    478"
      ]
     },
     "execution_count": 19,
     "metadata": {},
     "output_type": "execute_result"
    }
   ],
   "source": [
    "df_lang = fcount(df_meta[\"languages\"])\n",
    "df_lang.head(20)"
   ]
  },
  {
   "cell_type": "code",
   "execution_count": 20,
   "metadata": {},
   "outputs": [
    {
     "data": {
      "text/html": [
       "<div>\n",
       "<style scoped>\n",
       "    .dataframe tbody tr th:only-of-type {\n",
       "        vertical-align: middle;\n",
       "    }\n",
       "\n",
       "    .dataframe tbody tr th {\n",
       "        vertical-align: top;\n",
       "    }\n",
       "\n",
       "    .dataframe thead th {\n",
       "        text-align: right;\n",
       "    }\n",
       "</style>\n",
       "<table border=\"1\" class=\"dataframe\">\n",
       "  <thead>\n",
       "    <tr style=\"text-align: right;\">\n",
       "      <th></th>\n",
       "      <th>id</th>\n",
       "      <th>name</th>\n",
       "      <th>count</th>\n",
       "    </tr>\n",
       "  </thead>\n",
       "  <tbody>\n",
       "    <tr>\n",
       "      <th>0</th>\n",
       "      <td>/m/09c7w0</td>\n",
       "      <td>United States of America</td>\n",
       "      <td>34408</td>\n",
       "    </tr>\n",
       "    <tr>\n",
       "      <th>1</th>\n",
       "      <td>/m/03rk0</td>\n",
       "      <td>India</td>\n",
       "      <td>8411</td>\n",
       "    </tr>\n",
       "    <tr>\n",
       "      <th>2</th>\n",
       "      <td>/m/07ssc</td>\n",
       "      <td>United Kingdom</td>\n",
       "      <td>7868</td>\n",
       "    </tr>\n",
       "    <tr>\n",
       "      <th>3</th>\n",
       "      <td>/m/0f8l9c</td>\n",
       "      <td>France</td>\n",
       "      <td>4395</td>\n",
       "    </tr>\n",
       "    <tr>\n",
       "      <th>4</th>\n",
       "      <td>/m/03rjj</td>\n",
       "      <td>Italy</td>\n",
       "      <td>3163</td>\n",
       "    </tr>\n",
       "    <tr>\n",
       "      <th>5</th>\n",
       "      <td>/m/03_3d</td>\n",
       "      <td>Japan</td>\n",
       "      <td>2647</td>\n",
       "    </tr>\n",
       "    <tr>\n",
       "      <th>6</th>\n",
       "      <td>/m/0d060g</td>\n",
       "      <td>Canada</td>\n",
       "      <td>2534</td>\n",
       "    </tr>\n",
       "    <tr>\n",
       "      <th>7</th>\n",
       "      <td>/m/0345h</td>\n",
       "      <td>Germany</td>\n",
       "      <td>2393</td>\n",
       "    </tr>\n",
       "    <tr>\n",
       "      <th>8</th>\n",
       "      <td>/m/0jgd</td>\n",
       "      <td>Argentina</td>\n",
       "      <td>1468</td>\n",
       "    </tr>\n",
       "    <tr>\n",
       "      <th>9</th>\n",
       "      <td>/m/03h64</td>\n",
       "      <td>Hong Kong</td>\n",
       "      <td>1240</td>\n",
       "    </tr>\n",
       "    <tr>\n",
       "      <th>10</th>\n",
       "      <td>/m/06mkj</td>\n",
       "      <td>Spain</td>\n",
       "      <td>1136</td>\n",
       "    </tr>\n",
       "    <tr>\n",
       "      <th>11</th>\n",
       "      <td>/m/0chghy</td>\n",
       "      <td>Australia</td>\n",
       "      <td>1114</td>\n",
       "    </tr>\n",
       "    <tr>\n",
       "      <th>12</th>\n",
       "      <td>/m/06qd3</td>\n",
       "      <td>South Korea</td>\n",
       "      <td>887</td>\n",
       "    </tr>\n",
       "    <tr>\n",
       "      <th>13</th>\n",
       "      <td>/m/0b90_r</td>\n",
       "      <td>Mexico</td>\n",
       "      <td>870</td>\n",
       "    </tr>\n",
       "    <tr>\n",
       "      <th>14</th>\n",
       "      <td>/m/059j2</td>\n",
       "      <td>Netherlands</td>\n",
       "      <td>840</td>\n",
       "    </tr>\n",
       "    <tr>\n",
       "      <th>15</th>\n",
       "      <td>/m/0d0vqn</td>\n",
       "      <td>Sweden</td>\n",
       "      <td>657</td>\n",
       "    </tr>\n",
       "    <tr>\n",
       "      <th>16</th>\n",
       "      <td>/m/082fr</td>\n",
       "      <td>West Germany</td>\n",
       "      <td>647</td>\n",
       "    </tr>\n",
       "    <tr>\n",
       "      <th>17</th>\n",
       "      <td>/m/0d05w3</td>\n",
       "      <td>China</td>\n",
       "      <td>645</td>\n",
       "    </tr>\n",
       "    <tr>\n",
       "      <th>18</th>\n",
       "      <td>/m/0k6nt</td>\n",
       "      <td>Denmark</td>\n",
       "      <td>610</td>\n",
       "    </tr>\n",
       "    <tr>\n",
       "      <th>19</th>\n",
       "      <td>/m/05vz3zq</td>\n",
       "      <td>Soviet Union</td>\n",
       "      <td>564</td>\n",
       "    </tr>\n",
       "  </tbody>\n",
       "</table>\n",
       "</div>"
      ],
      "text/plain": [
       "            id                      name  count\n",
       "0    /m/09c7w0  United States of America  34408\n",
       "1     /m/03rk0                     India   8411\n",
       "2     /m/07ssc            United Kingdom   7868\n",
       "3    /m/0f8l9c                    France   4395\n",
       "4     /m/03rjj                     Italy   3163\n",
       "5     /m/03_3d                     Japan   2647\n",
       "6    /m/0d060g                    Canada   2534\n",
       "7     /m/0345h                   Germany   2393\n",
       "8      /m/0jgd                 Argentina   1468\n",
       "9     /m/03h64                 Hong Kong   1240\n",
       "10    /m/06mkj                     Spain   1136\n",
       "11   /m/0chghy                 Australia   1114\n",
       "12    /m/06qd3               South Korea    887\n",
       "13   /m/0b90_r                    Mexico    870\n",
       "14    /m/059j2               Netherlands    840\n",
       "15   /m/0d0vqn                    Sweden    657\n",
       "16    /m/082fr              West Germany    647\n",
       "17   /m/0d05w3                     China    645\n",
       "18    /m/0k6nt                   Denmark    610\n",
       "19  /m/05vz3zq              Soviet Union    564"
      ]
     },
     "execution_count": 20,
     "metadata": {},
     "output_type": "execute_result"
    }
   ],
   "source": [
    "df_country = fcount(df_meta[\"countries\"])\n",
    "df_country.head(20)"
   ]
  },
  {
   "cell_type": "markdown",
   "metadata": {},
   "source": [
    "There might be a correlation between the country and language features."
   ]
  },
  {
   "cell_type": "markdown",
   "metadata": {},
   "source": [
    "### Release date distribution"
   ]
  },
  {
   "cell_type": "code",
   "execution_count": 21,
   "metadata": {},
   "outputs": [
    {
     "data": {
      "image/png": "[encoded data removed]",
      "text/plain": [
       "<Figure size 432x288 with 1 Axes>"
      ]
     },
     "metadata": {
      "needs_background": "light"
     },
     "output_type": "display_data"
    }
   ],
   "source": [
    "df_meta.groupby(df_meta[\"release_date\"].dt.year).count()['wikiID'].plot()\n",
    "plt.show()"
   ]
  },
  {
   "cell_type": "markdown",
   "metadata": {},
   "source": [
    "We want to study the similarity between two movies so the date of their releases can be interesting. In this case, the exact release date might not be necessary, because it is expected that the difference would lie between movies that have for example 10 years of difference not just a few months. Actually, in some cases we only have the year of the release, so it might be simpler to only store the year of the release for all movies in order to keep homogeneous data."
   ]
  },
  {
   "cell_type": "markdown",
   "metadata": {},
   "source": [
    "### Runtime distribution"
   ]
  },
  {
   "cell_type": "code",
   "execution_count": 22,
   "metadata": {},
   "outputs": [
    {
     "name": "stdout",
     "output_type": "stream",
     "text": [
      "1079281.0\n"
     ]
    }
   ],
   "source": [
    "print(df_meta['runtime'].max())"
   ]
  },
  {
   "cell_type": "markdown",
   "metadata": {},
   "source": [
    "2 years of runtime?"
   ]
  },
  {
   "cell_type": "code",
   "execution_count": 23,
   "metadata": {},
   "outputs": [
    {
     "name": "stdout",
     "output_type": "stream",
     "text": [
      "66\n",
      "250\n"
     ]
    }
   ],
   "source": [
    "print(df_meta[df_meta['runtime'] >= 400].shape[0])\n",
    "print(df_meta[df_meta['runtime'] <= 3].shape[0])"
   ]
  },
  {
   "cell_type": "markdown",
   "metadata": {},
   "source": [
    "More than 6 hours of runtime seems too large and less than 3 minutes seems too short."
   ]
  },
  {
   "cell_type": "code",
   "execution_count": 24,
   "metadata": {
    "scrolled": true
   },
   "outputs": [
    {
     "data": {
      "image/png": "[encoded data removed]",
      "text/plain": [
       "<Figure size 432x288 with 1 Axes>"
      ]
     },
     "metadata": {
      "needs_background": "light"
     },
     "output_type": "display_data"
    }
   ],
   "source": [
    "fig = plt.figure()\n",
    "ax = fig.add_subplot(1, 1, 1)\n",
    "ax.hist(df_meta[df_meta['runtime'] < 400]['runtime'], bins=400)\n",
    "ax.set_title('Distribution of runtime')\n",
    "\n",
    "plt.show()"
   ]
  },
  {
   "cell_type": "markdown",
   "metadata": {},
   "source": [
    "We can observe that the distribution is more concentrated around a runtime of 90 minutes but it appears there is a cluster around 20 which might corresponds to short films (6th most represented movie genre in the dataset).\n",
    "\n",
    "The exact value of the runtime does not always seem to be reliable data, and looking at the distribution it might be a good idea to replace the runtime by an attribute like \"short\", \"long\" or \"don't know\" (if runtime is NaN)."
   ]
  },
  {
   "cell_type": "markdown",
   "metadata": {},
   "source": [
    "### Runtime distribution"
   ]
  },
  {
   "cell_type": "code",
   "execution_count": 25,
   "metadata": {},
   "outputs": [
    {
     "data": {
      "text/plain": [
       "<AxesSubplot:>"
      ]
     },
     "execution_count": 25,
     "metadata": {},
     "output_type": "execute_result"
    },
    {
     "data": {
      "image/png": "[encoded data removed]",
      "text/plain": [
       "<Figure size 432x288 with 1 Axes>"
      ]
     },
     "metadata": {
      "needs_background": "light"
     },
     "output_type": "display_data"
    }
   ],
   "source": [
    "df_meta['revenue'].dropna().hist(bins=100)"
   ]
  },
  {
   "cell_type": "code",
   "execution_count": 26,
   "metadata": {},
   "outputs": [
    {
     "name": "stdout",
     "output_type": "stream",
     "text": [
      "2782275172.0\n"
     ]
    }
   ],
   "source": [
    "print(df_meta['revenue'].max())"
   ]
  },
  {
   "cell_type": "code",
   "execution_count": 27,
   "metadata": {
    "scrolled": true
   },
   "outputs": [
    {
     "name": "stdout",
     "output_type": "stream",
     "text": [
      "23702    Avatar\n",
      "Name: name, dtype: object\n"
     ]
    }
   ],
   "source": [
    "print(df_meta[df_meta['revenue']==df_meta['revenue'].max()].name)"
   ]
  },
  {
   "cell_type": "markdown",
   "metadata": {},
   "source": [
    "There is a very large different between most of the movies and the movies that had a huge success such as \"Avatar\".\n",
    "\n",
    "Note that the box office revenue is absent for most of the movies and we might not need it to compute the similarity between two movies. Therefore, we estimated that this feature would not be useful for our project."
   ]
  },
  {
   "cell_type": "markdown",
   "metadata": {},
   "source": [
    "### Distribution of the number of words per plot"
   ]
  },
  {
   "cell_type": "code",
   "execution_count": 28,
   "metadata": {},
   "outputs": [
    {
     "data": {
      "image/png": "[encoded data removed]",
      "text/plain": [
       "<Figure size 432x288 with 1 Axes>"
      ]
     },
     "metadata": {
      "needs_background": "light"
     },
     "output_type": "display_data"
    }
   ],
   "source": [
    "#use raw plot_summaries and count nb of words in each plot \n",
    "df_plot_fltr = df_plot.copy()\n",
    "df_plot_fltr['nb_words'] = df_plot_fltr['plot'].apply(lambda n: len(n.split()))\n",
    "\n",
    "fig = plt.figure()\n",
    "ax = fig.add_subplot(1, 1, 1)\n",
    "ax.hist(df_plot_fltr['nb_words'], bins=1000)\n",
    "ax.set_title('Distribution of the number of words per plot')\n",
    "\n",
    "plt.show()"
   ]
  },
  {
   "cell_type": "code",
   "execution_count": 29,
   "metadata": {},
   "outputs": [
    {
     "data": {
      "image/png": "[encoded data removed]",
      "text/plain": [
       "<Figure size 432x288 with 1 Axes>"
      ]
     },
     "metadata": {
      "needs_background": "light"
     },
     "output_type": "display_data"
    }
   ],
   "source": [
    "fig = plt.figure()\n",
    "ax = fig.add_subplot(1, 1, 1)\n",
    "ax.hist(df_plot_fltr['nb_words'], bins=1000)\n",
    "ax.set_title('Zoom between 0 and 100 words')\n",
    "plt.xlim([0, 100])\n",
    "\n",
    "plt.show()"
   ]
  },
  {
   "cell_type": "markdown",
   "metadata": {},
   "source": [
    "We still find some extreme values in the distribution. In particular, some plots have less than 20 words, on the other hand there are plots with thousands of words.\n",
    "\n",
    "In the preprocessing, we decided to discard the movies with plots that are less than 10 words as they might not be relevant when we will apply topic extraction."
   ]
  },
  {
   "cell_type": "markdown",
   "metadata": {},
   "source": [
    "### Distribution of the number of characters per movie"
   ]
  },
  {
   "cell_type": "markdown",
   "metadata": {},
   "source": [
    "First we will group all the characters by movie. So if a movie has at least one labeled character, we will be able to count its number of character so that we can have an insight on the distribution of the number of characters for a movie."
   ]
  },
  {
   "cell_type": "code",
   "execution_count": 30,
   "metadata": {},
   "outputs": [
    {
     "data": {
      "image/png": "[encoded data removed]",
      "text/plain": [
       "<Figure size 432x288 with 1 Axes>"
      ]
     },
     "metadata": {
      "needs_background": "light"
     },
     "output_type": "display_data"
    }
   ],
   "source": [
    "df_char_fltr = df_char[['freeID','FreeID_actor']].copy()\n",
    "df_char_fltr = df_char_fltr.groupby(['freeID']).size()\n",
    "\n",
    "fig = plt.figure()\n",
    "ax = fig.add_subplot(1, 1, 1)\n",
    "ax.hist(df_char_fltr, bins=120)\n",
    "ax.set_title('Distribution of the number of labeled characters per movie')\n",
    "\n",
    "plt.show()"
   ]
  },
  {
   "cell_type": "code",
   "execution_count": 31,
   "metadata": {},
   "outputs": [
    {
     "name": "stdout",
     "output_type": "stream",
     "text": [
      "Number of movies without any labeled character:  17411\n"
     ]
    }
   ],
   "source": [
    "print(\"Number of movies without any labeled character: \", \n",
    "      df_meta.shape[0] - df_meta[df_meta['freeID'].isin(df_char_fltr.index)].shape[0])"
   ]
  },
  {
   "cell_type": "markdown",
   "metadata": {},
   "source": [
    "This can be missing information but it is also logical that some movies such as documentaries do not have any character."
   ]
  },
  {
   "cell_type": "code",
   "execution_count": 32,
   "metadata": {},
   "outputs": [
    {
     "data": {
      "image/png": "[encoded data removed]",
      "text/plain": [
       "<Figure size 432x288 with 1 Axes>"
      ]
     },
     "metadata": {
      "needs_background": "light"
     },
     "output_type": "display_data"
    }
   ],
   "source": [
    "red_square = dict(markerfacecolor='r', marker='s')\n",
    "\n",
    "fig = plt.figure()\n",
    "ax = fig.add_subplot(1, 1, 1)\n",
    "ax.boxplot(df_char_fltr, vert=False, flierprops=red_square)\n",
    "ax.set_title('Boxplot for the number of labeled characters per movie')\n",
    "plt.show()"
   ]
  },
  {
   "cell_type": "code",
   "execution_count": 33,
   "metadata": {},
   "outputs": [
    {
     "name": "stdout",
     "output_type": "stream",
     "text": [
      "1rst quartile, median and 3rd quartile values: \n",
      "0.25     3.0\n",
      "0.50     6.0\n",
      "0.75    10.0\n",
      "dtype: float64\n"
     ]
    }
   ],
   "source": [
    "print(\"1rst quartile, median and 3rd quartile values: \")\n",
    "print(df_char_fltr.quantile([0.25,0.5,0.75]))"
   ]
  },
  {
   "cell_type": "markdown",
   "metadata": {},
   "source": [
    "## Join the dataframes"
   ]
  },
  {
   "cell_type": "markdown",
   "metadata": {},
   "source": [
    "The feature connecting dataframes together is the Wikipedia ID. Also there are more metadatas of movies (81741 movies) than plots (42303 movies). We will only keep the metadatas of the movies we know the plot of."
   ]
  },
  {
   "cell_type": "code",
   "execution_count": 34,
   "metadata": {
    "scrolled": true
   },
   "outputs": [
    {
     "data": {
      "text/html": [
       "<div>\n",
       "<style scoped>\n",
       "    .dataframe tbody tr th:only-of-type {\n",
       "        vertical-align: middle;\n",
       "    }\n",
       "\n",
       "    .dataframe tbody tr th {\n",
       "        vertical-align: top;\n",
       "    }\n",
       "\n",
       "    .dataframe thead th {\n",
       "        text-align: right;\n",
       "    }\n",
       "</style>\n",
       "<table border=\"1\" class=\"dataframe\">\n",
       "  <thead>\n",
       "    <tr style=\"text-align: right;\">\n",
       "      <th></th>\n",
       "      <th>wikiID</th>\n",
       "      <th>freeID</th>\n",
       "      <th>name</th>\n",
       "      <th>release_date</th>\n",
       "      <th>revenue</th>\n",
       "      <th>runtime</th>\n",
       "      <th>languages</th>\n",
       "      <th>countries</th>\n",
       "      <th>genres</th>\n",
       "      <th>plot</th>\n",
       "    </tr>\n",
       "  </thead>\n",
       "  <tbody>\n",
       "    <tr>\n",
       "      <th>0</th>\n",
       "      <td>975900</td>\n",
       "      <td>/m/03vyhn</td>\n",
       "      <td>Ghosts of Mars</td>\n",
       "      <td>2001-08-24</td>\n",
       "      <td>14010832.0</td>\n",
       "      <td>98.0</td>\n",
       "      <td>{\"/m/02h40lc\": \"English Language\"}</td>\n",
       "      <td>{\"/m/09c7w0\": \"United States of America\"}</td>\n",
       "      <td>{\"/m/01jfsb\": \"Thriller\", \"/m/06n90\": \"Science...</td>\n",
       "      <td>Set in the second half of the 22nd century, th...</td>\n",
       "    </tr>\n",
       "    <tr>\n",
       "      <th>1</th>\n",
       "      <td>9363483</td>\n",
       "      <td>/m/0285_cd</td>\n",
       "      <td>White Of The Eye</td>\n",
       "      <td>1987-01-01</td>\n",
       "      <td>NaN</td>\n",
       "      <td>110.0</td>\n",
       "      <td>{\"/m/02h40lc\": \"English Language\"}</td>\n",
       "      <td>{\"/m/07ssc\": \"United Kingdom\"}</td>\n",
       "      <td>{\"/m/01jfsb\": \"Thriller\", \"/m/0glj9q\": \"Erotic...</td>\n",
       "      <td>A series of murders of rich young women throug...</td>\n",
       "    </tr>\n",
       "    <tr>\n",
       "      <th>2</th>\n",
       "      <td>261236</td>\n",
       "      <td>/m/01mrr1</td>\n",
       "      <td>A Woman in Flames</td>\n",
       "      <td>1983-01-01</td>\n",
       "      <td>NaN</td>\n",
       "      <td>106.0</td>\n",
       "      <td>{\"/m/04306rv\": \"German Language\"}</td>\n",
       "      <td>{\"/m/0345h\": \"Germany\"}</td>\n",
       "      <td>{\"/m/07s9rl0\": \"Drama\"}</td>\n",
       "      <td>Eva, an upper class housewife, becomes frustra...</td>\n",
       "    </tr>\n",
       "    <tr>\n",
       "      <th>3</th>\n",
       "      <td>18998739</td>\n",
       "      <td>/m/04jcqvw</td>\n",
       "      <td>The Sorcerer's Apprentice</td>\n",
       "      <td>2002-01-01</td>\n",
       "      <td>NaN</td>\n",
       "      <td>86.0</td>\n",
       "      <td>{\"/m/02h40lc\": \"English Language\"}</td>\n",
       "      <td>{\"/m/0hzlz\": \"South Africa\"}</td>\n",
       "      <td>{\"/m/0hqxf\": \"Family Film\", \"/m/01hmnh\": \"Fant...</td>\n",
       "      <td>Every hundred years, the evil Morgana  returns...</td>\n",
       "    </tr>\n",
       "    <tr>\n",
       "      <th>4</th>\n",
       "      <td>6631279</td>\n",
       "      <td>/m/0gffwj</td>\n",
       "      <td>Little city</td>\n",
       "      <td>1997-04-04</td>\n",
       "      <td>NaN</td>\n",
       "      <td>93.0</td>\n",
       "      <td>{\"/m/02h40lc\": \"English Language\"}</td>\n",
       "      <td>{\"/m/09c7w0\": \"United States of America\"}</td>\n",
       "      <td>{\"/m/06cvj\": \"Romantic comedy\", \"/m/0hj3n0w\": ...</td>\n",
       "      <td>Adam, a San Francisco-based artist who works a...</td>\n",
       "    </tr>\n",
       "  </tbody>\n",
       "</table>\n",
       "</div>"
      ],
      "text/plain": [
       "     wikiID      freeID                       name release_date     revenue  \\\n",
       "0    975900   /m/03vyhn             Ghosts of Mars   2001-08-24  14010832.0   \n",
       "1   9363483  /m/0285_cd           White Of The Eye   1987-01-01         NaN   \n",
       "2    261236   /m/01mrr1          A Woman in Flames   1983-01-01         NaN   \n",
       "3  18998739  /m/04jcqvw  The Sorcerer's Apprentice   2002-01-01         NaN   \n",
       "4   6631279   /m/0gffwj                Little city   1997-04-04         NaN   \n",
       "\n",
       "   runtime                           languages  \\\n",
       "0     98.0  {\"/m/02h40lc\": \"English Language\"}   \n",
       "1    110.0  {\"/m/02h40lc\": \"English Language\"}   \n",
       "2    106.0   {\"/m/04306rv\": \"German Language\"}   \n",
       "3     86.0  {\"/m/02h40lc\": \"English Language\"}   \n",
       "4     93.0  {\"/m/02h40lc\": \"English Language\"}   \n",
       "\n",
       "                                   countries  \\\n",
       "0  {\"/m/09c7w0\": \"United States of America\"}   \n",
       "1             {\"/m/07ssc\": \"United Kingdom\"}   \n",
       "2                    {\"/m/0345h\": \"Germany\"}   \n",
       "3               {\"/m/0hzlz\": \"South Africa\"}   \n",
       "4  {\"/m/09c7w0\": \"United States of America\"}   \n",
       "\n",
       "                                              genres  \\\n",
       "0  {\"/m/01jfsb\": \"Thriller\", \"/m/06n90\": \"Science...   \n",
       "1  {\"/m/01jfsb\": \"Thriller\", \"/m/0glj9q\": \"Erotic...   \n",
       "2                            {\"/m/07s9rl0\": \"Drama\"}   \n",
       "3  {\"/m/0hqxf\": \"Family Film\", \"/m/01hmnh\": \"Fant...   \n",
       "4  {\"/m/06cvj\": \"Romantic comedy\", \"/m/0hj3n0w\": ...   \n",
       "\n",
       "                                                plot  \n",
       "0  Set in the second half of the 22nd century, th...  \n",
       "1  A series of murders of rich young women throug...  \n",
       "2  Eva, an upper class housewife, becomes frustra...  \n",
       "3  Every hundred years, the evil Morgana  returns...  \n",
       "4  Adam, a San Francisco-based artist who works a...  "
      ]
     },
     "execution_count": 34,
     "metadata": {},
     "output_type": "execute_result"
    }
   ],
   "source": [
    "df_full = df_meta.merge(df_plot, how='inner', on=\"wikiID\")\n",
    "df_full.head()"
   ]
  },
  {
   "cell_type": "markdown",
   "metadata": {},
   "source": [
    "Only a small fraction of the characters have been labellised with a trope (500), compared to the number of unlabeled (450669). Here is the dataframe containing the characters with trope"
   ]
  },
  {
   "cell_type": "code",
   "execution_count": 35,
   "metadata": {},
   "outputs": [
    {
     "data": {
      "text/html": [
       "<div>\n",
       "<style scoped>\n",
       "    .dataframe tbody tr th:only-of-type {\n",
       "        vertical-align: middle;\n",
       "    }\n",
       "\n",
       "    .dataframe tbody tr th {\n",
       "        vertical-align: top;\n",
       "    }\n",
       "\n",
       "    .dataframe thead th {\n",
       "        text-align: right;\n",
       "    }\n",
       "</style>\n",
       "<table border=\"1\" class=\"dataframe\">\n",
       "  <thead>\n",
       "    <tr style=\"text-align: right;\">\n",
       "      <th></th>\n",
       "      <th>WikiID</th>\n",
       "      <th>freeID</th>\n",
       "      <th>release_date</th>\n",
       "      <th>char_name</th>\n",
       "      <th>actor_DOB</th>\n",
       "      <th>actor_gender</th>\n",
       "      <th>actor_height</th>\n",
       "      <th>actor_ethnicity</th>\n",
       "      <th>actor_name</th>\n",
       "      <th>Actor_age</th>\n",
       "      <th>freeID_char_map</th>\n",
       "      <th>FreeID_char</th>\n",
       "      <th>FreeID_actor</th>\n",
       "      <th>trope</th>\n",
       "      <th>movie</th>\n",
       "    </tr>\n",
       "  </thead>\n",
       "  <tbody>\n",
       "    <tr>\n",
       "      <th>0</th>\n",
       "      <td>196176</td>\n",
       "      <td>/m/01bwgr</td>\n",
       "      <td>1971-11-03</td>\n",
       "      <td>David Sumner</td>\n",
       "      <td>1937-08-08</td>\n",
       "      <td>M</td>\n",
       "      <td>1.66</td>\n",
       "      <td>/m/041rx</td>\n",
       "      <td>Dustin Hoffman</td>\n",
       "      <td>34.0</td>\n",
       "      <td>/m/0k3v65</td>\n",
       "      <td>/m/0ch916z</td>\n",
       "      <td>/m/0bl2g</td>\n",
       "      <td>tranquil_fury</td>\n",
       "      <td>Straw Dogs</td>\n",
       "    </tr>\n",
       "    <tr>\n",
       "      <th>1</th>\n",
       "      <td>1157158</td>\n",
       "      <td>/m/04c13q</td>\n",
       "      <td>2002-03-29</td>\n",
       "      <td>Sheldon Mopes</td>\n",
       "      <td>1969-08-18</td>\n",
       "      <td>M</td>\n",
       "      <td>1.83</td>\n",
       "      <td>NaN</td>\n",
       "      <td>Edward Norton</td>\n",
       "      <td>32.0</td>\n",
       "      <td>/m/0jx3b8</td>\n",
       "      <td>/m/0gy99_8</td>\n",
       "      <td>/m/01515w</td>\n",
       "      <td>granola_person</td>\n",
       "      <td>Death to Smoochy</td>\n",
       "    </tr>\n",
       "    <tr>\n",
       "      <th>2</th>\n",
       "      <td>504242</td>\n",
       "      <td>/m/02j9_2</td>\n",
       "      <td>2005-08-22</td>\n",
       "      <td>Mr. Universe</td>\n",
       "      <td>1978-05-15</td>\n",
       "      <td>M</td>\n",
       "      <td>1.68</td>\n",
       "      <td>/m/041rx</td>\n",
       "      <td>David Krumholtz</td>\n",
       "      <td>27.0</td>\n",
       "      <td>/m/0k31lb</td>\n",
       "      <td>/m/02sgjdt</td>\n",
       "      <td>/m/05cx7x</td>\n",
       "      <td>playful_hacker</td>\n",
       "      <td>Serenity</td>\n",
       "    </tr>\n",
       "    <tr>\n",
       "      <th>3</th>\n",
       "      <td>6917005</td>\n",
       "      <td>/m/0gwypk</td>\n",
       "      <td>2003-02-16</td>\n",
       "      <td>Harold Hill</td>\n",
       "      <td>1962-03-21</td>\n",
       "      <td>M</td>\n",
       "      <td>1.73</td>\n",
       "      <td>/m/041rx</td>\n",
       "      <td>Matthew Broderick</td>\n",
       "      <td>40.0</td>\n",
       "      <td>/m/04hv61w</td>\n",
       "      <td>/m/09j606t</td>\n",
       "      <td>/m/01vlj1g</td>\n",
       "      <td>charmer</td>\n",
       "      <td>The Music Man</td>\n",
       "    </tr>\n",
       "    <tr>\n",
       "      <th>4</th>\n",
       "      <td>6917005</td>\n",
       "      <td>/m/0gwypk</td>\n",
       "      <td>2003-02-16</td>\n",
       "      <td>Harold Hill</td>\n",
       "      <td>1962-03-21</td>\n",
       "      <td>M</td>\n",
       "      <td>1.73</td>\n",
       "      <td>/m/041rx</td>\n",
       "      <td>Matthew Broderick</td>\n",
       "      <td>40.0</td>\n",
       "      <td>/m/04hv61w</td>\n",
       "      <td>/m/09j606t</td>\n",
       "      <td>/m/01vlj1g</td>\n",
       "      <td>loveable_rogue</td>\n",
       "      <td>The Music Man</td>\n",
       "    </tr>\n",
       "  </tbody>\n",
       "</table>\n",
       "</div>"
      ],
      "text/plain": [
       "    WikiID     freeID release_date      char_name   actor_DOB actor_gender  \\\n",
       "0   196176  /m/01bwgr   1971-11-03   David Sumner  1937-08-08            M   \n",
       "1  1157158  /m/04c13q   2002-03-29  Sheldon Mopes  1969-08-18            M   \n",
       "2   504242  /m/02j9_2   2005-08-22   Mr. Universe  1978-05-15            M   \n",
       "3  6917005  /m/0gwypk   2003-02-16    Harold Hill  1962-03-21            M   \n",
       "4  6917005  /m/0gwypk   2003-02-16    Harold Hill  1962-03-21            M   \n",
       "\n",
       "   actor_height actor_ethnicity         actor_name  Actor_age freeID_char_map  \\\n",
       "0          1.66        /m/041rx     Dustin Hoffman       34.0       /m/0k3v65   \n",
       "1          1.83             NaN      Edward Norton       32.0       /m/0jx3b8   \n",
       "2          1.68        /m/041rx    David Krumholtz       27.0       /m/0k31lb   \n",
       "3          1.73        /m/041rx  Matthew Broderick       40.0      /m/04hv61w   \n",
       "4          1.73        /m/041rx  Matthew Broderick       40.0      /m/04hv61w   \n",
       "\n",
       "  FreeID_char FreeID_actor           trope             movie  \n",
       "0  /m/0ch916z     /m/0bl2g   tranquil_fury        Straw Dogs  \n",
       "1  /m/0gy99_8    /m/01515w  granola_person  Death to Smoochy  \n",
       "2  /m/02sgjdt    /m/05cx7x  playful_hacker          Serenity  \n",
       "3  /m/09j606t   /m/01vlj1g         charmer     The Music Man  \n",
       "4  /m/09j606t   /m/01vlj1g  loveable_rogue     The Music Man  "
      ]
     },
     "execution_count": 35,
     "metadata": {},
     "output_type": "execute_result"
    }
   ],
   "source": [
    "df_char_trope = df_char.merge(df_tropes, how='inner', on='freeID_char_map')\n",
    "\n",
    "df_char_trope.drop(columns=[\"char\", \"actor\"], inplace=True)\n",
    "df_char_trope.head()"
   ]
  },
  {
   "cell_type": "markdown",
   "metadata": {},
   "source": [
    "---\n",
    "## Preprocessing"
   ]
  },
  {
   "cell_type": "markdown",
   "metadata": {},
   "source": [
    "We decided to filter our data, and remove the elements without a genre or with less than 10 words in their plot, because these are the features that we think are the most important in the idea of our project."
   ]
  },
  {
   "cell_type": "code",
   "execution_count": 36,
   "metadata": {},
   "outputs": [
    {
     "name": "stdout",
     "output_type": "stream",
     "text": [
      "number of movies remaining after movie metadata preprocessing:  41783\n"
     ]
    }
   ],
   "source": [
    "df_clean = (df_full[(df_full['genres'] != '{}') & (df_full['plot'].apply(lambda s: len(s.split())) > 10)]).drop(\n",
    "    columns=['revenue'])\n",
    "\n",
    "print('number of movies remaining after movie metadata preprocessing: ', df_clean.shape[0])"
   ]
  },
  {
   "cell_type": "markdown",
   "metadata": {},
   "source": [
    "We are formatting the data to facilitate the analysis."
   ]
  },
  {
   "cell_type": "code",
   "execution_count": 37,
   "metadata": {},
   "outputs": [],
   "source": [
    "df_clean['countries'] = pd.DataFrame(data={'countries': df_clean['countries'].apply(lambda x: list(json.loads(x).values()))})\n",
    "df_clean['languages'] = pd.DataFrame(data={'languages': df_clean['languages'].apply(lambda x: list(json.loads(x).values()))})\n",
    "df_clean['genres'] = pd.DataFrame(data={'genres': df_clean['genres'].apply(lambda x: list(json.loads(x).values()))}) "
   ]
  },
  {
   "cell_type": "markdown",
   "metadata": {},
   "source": [
    "We decided to replace the full release date by the year of release, so that all the movies have only an integer for this feature, and because we estimated that the year was sufficient to establish a similarity on the release date. "
   ]
  },
  {
   "cell_type": "code",
   "execution_count": 38,
   "metadata": {},
   "outputs": [],
   "source": [
    "df_clean['release_date'] = df_clean['release_date'].dt.year.apply(lambda x: int(x) if x == x else \"\")"
   ]
  },
  {
   "cell_type": "markdown",
   "metadata": {},
   "source": [
    "We decided to redefine the runtime either as \"short\" for movies with a runtime less than 40 minutes (a short film is generally less than 40 minutes), \"long\" for movies with a runtime larger than 40 minutes or \"unknown\" if we do not know the runtime."
   ]
  },
  {
   "cell_type": "code",
   "execution_count": 39,
   "metadata": {},
   "outputs": [],
   "source": [
    "df_clean['runtime'] = df_clean['runtime'].apply(lambda x: 'short' if x <= 40 else ('long' if x > 40 else 'unknown'))"
   ]
  },
  {
   "cell_type": "code",
   "execution_count": 40,
   "metadata": {},
   "outputs": [
    {
     "data": {
      "text/html": [
       "<div>\n",
       "<style scoped>\n",
       "    .dataframe tbody tr th:only-of-type {\n",
       "        vertical-align: middle;\n",
       "    }\n",
       "\n",
       "    .dataframe tbody tr th {\n",
       "        vertical-align: top;\n",
       "    }\n",
       "\n",
       "    .dataframe thead th {\n",
       "        text-align: right;\n",
       "    }\n",
       "</style>\n",
       "<table border=\"1\" class=\"dataframe\">\n",
       "  <thead>\n",
       "    <tr style=\"text-align: right;\">\n",
       "      <th></th>\n",
       "      <th>wikiID</th>\n",
       "      <th>freeID</th>\n",
       "      <th>name</th>\n",
       "      <th>release_date</th>\n",
       "      <th>runtime</th>\n",
       "      <th>languages</th>\n",
       "      <th>countries</th>\n",
       "      <th>genres</th>\n",
       "      <th>plot</th>\n",
       "    </tr>\n",
       "  </thead>\n",
       "  <tbody>\n",
       "    <tr>\n",
       "      <th>0</th>\n",
       "      <td>975900</td>\n",
       "      <td>/m/03vyhn</td>\n",
       "      <td>Ghosts of Mars</td>\n",
       "      <td>2001</td>\n",
       "      <td>long</td>\n",
       "      <td>[English Language]</td>\n",
       "      <td>[United States of America]</td>\n",
       "      <td>[Thriller, Science Fiction, Horror, Adventure,...</td>\n",
       "      <td>Set in the second half of the 22nd century, th...</td>\n",
       "    </tr>\n",
       "    <tr>\n",
       "      <th>1</th>\n",
       "      <td>9363483</td>\n",
       "      <td>/m/0285_cd</td>\n",
       "      <td>White Of The Eye</td>\n",
       "      <td>1987</td>\n",
       "      <td>long</td>\n",
       "      <td>[English Language]</td>\n",
       "      <td>[United Kingdom]</td>\n",
       "      <td>[Thriller, Erotic thriller, Psychological thri...</td>\n",
       "      <td>A series of murders of rich young women throug...</td>\n",
       "    </tr>\n",
       "    <tr>\n",
       "      <th>2</th>\n",
       "      <td>261236</td>\n",
       "      <td>/m/01mrr1</td>\n",
       "      <td>A Woman in Flames</td>\n",
       "      <td>1983</td>\n",
       "      <td>long</td>\n",
       "      <td>[German Language]</td>\n",
       "      <td>[Germany]</td>\n",
       "      <td>[Drama]</td>\n",
       "      <td>Eva, an upper class housewife, becomes frustra...</td>\n",
       "    </tr>\n",
       "    <tr>\n",
       "      <th>3</th>\n",
       "      <td>18998739</td>\n",
       "      <td>/m/04jcqvw</td>\n",
       "      <td>The Sorcerer's Apprentice</td>\n",
       "      <td>2002</td>\n",
       "      <td>long</td>\n",
       "      <td>[English Language]</td>\n",
       "      <td>[South Africa]</td>\n",
       "      <td>[Family Film, Fantasy, Adventure, World cinema]</td>\n",
       "      <td>Every hundred years, the evil Morgana  returns...</td>\n",
       "    </tr>\n",
       "    <tr>\n",
       "      <th>4</th>\n",
       "      <td>6631279</td>\n",
       "      <td>/m/0gffwj</td>\n",
       "      <td>Little city</td>\n",
       "      <td>1997</td>\n",
       "      <td>long</td>\n",
       "      <td>[English Language]</td>\n",
       "      <td>[United States of America]</td>\n",
       "      <td>[Romantic comedy, Ensemble Film, Comedy-drama,...</td>\n",
       "      <td>Adam, a San Francisco-based artist who works a...</td>\n",
       "    </tr>\n",
       "    <tr>\n",
       "      <th>5</th>\n",
       "      <td>171005</td>\n",
       "      <td>/m/016ywb</td>\n",
       "      <td>Henry V</td>\n",
       "      <td>1989</td>\n",
       "      <td>long</td>\n",
       "      <td>[English Language]</td>\n",
       "      <td>[United Kingdom]</td>\n",
       "      <td>[Costume drama, War film, Epic, Period piece, ...</td>\n",
       "      <td>{{Plot|dateAct 1Act 2Act 3Act 4Act 5 Finally n...</td>\n",
       "    </tr>\n",
       "    <tr>\n",
       "      <th>6</th>\n",
       "      <td>18296435</td>\n",
       "      <td>/m/04cqrs4</td>\n",
       "      <td>Aaah Belinda</td>\n",
       "      <td>1986</td>\n",
       "      <td>unknown</td>\n",
       "      <td>[Turkish Language]</td>\n",
       "      <td>[Turkey]</td>\n",
       "      <td>[Comedy]</td>\n",
       "      <td>Serap, a young actress with a strong, lively p...</td>\n",
       "    </tr>\n",
       "    <tr>\n",
       "      <th>7</th>\n",
       "      <td>11250635</td>\n",
       "      <td>/m/02r52hc</td>\n",
       "      <td>The Mechanical Monsters</td>\n",
       "      <td></td>\n",
       "      <td>unknown</td>\n",
       "      <td>[English Language]</td>\n",
       "      <td>[United States of America]</td>\n",
       "      <td>[Science Fiction, Adventure, Animation, Short ...</td>\n",
       "      <td>The story starts as one of the robots flies i...</td>\n",
       "    </tr>\n",
       "    <tr>\n",
       "      <th>8</th>\n",
       "      <td>77856</td>\n",
       "      <td>/m/0kcn7</td>\n",
       "      <td>Mary Poppins</td>\n",
       "      <td>1964</td>\n",
       "      <td>long</td>\n",
       "      <td>[English Language]</td>\n",
       "      <td>[United States of America]</td>\n",
       "      <td>[Children's/Family, Musical, Fantasy, Comedy, ...</td>\n",
       "      <td>The film opens with Mary Poppins  perched in a...</td>\n",
       "    </tr>\n",
       "    <tr>\n",
       "      <th>10</th>\n",
       "      <td>21926710</td>\n",
       "      <td>/m/05p45cv</td>\n",
       "      <td>White on Rice</td>\n",
       "      <td>2009</td>\n",
       "      <td>long</td>\n",
       "      <td>[]</td>\n",
       "      <td>[United States of America]</td>\n",
       "      <td>[Romantic comedy, Romance Film, Comedy, Indie]</td>\n",
       "      <td>Jimmy ([[Hiroshi Watanabe  loves dinosaurs and...</td>\n",
       "    </tr>\n",
       "    <tr>\n",
       "      <th>11</th>\n",
       "      <td>20604092</td>\n",
       "      <td>/m/0523t_1</td>\n",
       "      <td>Anbu Thozhi</td>\n",
       "      <td>2007</td>\n",
       "      <td>unknown</td>\n",
       "      <td>[Tamil Language]</td>\n",
       "      <td>[India]</td>\n",
       "      <td>[Romance Film]</td>\n",
       "      <td>The film opens with a simpleton from a small v...</td>\n",
       "    </tr>\n",
       "    <tr>\n",
       "      <th>12</th>\n",
       "      <td>156558</td>\n",
       "      <td>/m/014k4y</td>\n",
       "      <td>Baby Boy</td>\n",
       "      <td>2001</td>\n",
       "      <td>long</td>\n",
       "      <td>[English Language]</td>\n",
       "      <td>[United States of America]</td>\n",
       "      <td>[Crime Fiction, Drama, Coming of age]</td>\n",
       "      <td>A young 20-year-old named Jody  lives with his...</td>\n",
       "    </tr>\n",
       "    <tr>\n",
       "      <th>13</th>\n",
       "      <td>11448183</td>\n",
       "      <td>/m/02rc_h4</td>\n",
       "      <td>Bindiya Chamkegi</td>\n",
       "      <td>1984</td>\n",
       "      <td>unknown</td>\n",
       "      <td>[Hindi Language]</td>\n",
       "      <td>[India]</td>\n",
       "      <td>[Family Film, Comedy]</td>\n",
       "      <td>Shalini 'Shalu' lives a wealthy lifestyle with...</td>\n",
       "    </tr>\n",
       "    <tr>\n",
       "      <th>14</th>\n",
       "      <td>9633533</td>\n",
       "      <td>/m/02pml15</td>\n",
       "      <td>Vandanam</td>\n",
       "      <td>1989</td>\n",
       "      <td>long</td>\n",
       "      <td>[Malayalam Language]</td>\n",
       "      <td>[India]</td>\n",
       "      <td>[Action]</td>\n",
       "      <td>Professor Kurian Fernandez , a convict escapes...</td>\n",
       "    </tr>\n",
       "    <tr>\n",
       "      <th>15</th>\n",
       "      <td>29528534</td>\n",
       "      <td>/m/04j0lfk</td>\n",
       "      <td>Anokha Rishta</td>\n",
       "      <td>1986</td>\n",
       "      <td>long</td>\n",
       "      <td>[Hindi Language]</td>\n",
       "      <td>[India]</td>\n",
       "      <td>[World cinema, Musical, Drama, Romantic drama,...</td>\n",
       "      <td>Mary, an orphan lives in an orphanage run by n...</td>\n",
       "    </tr>\n",
       "    <tr>\n",
       "      <th>16</th>\n",
       "      <td>29772142</td>\n",
       "      <td>/m/0fq260_</td>\n",
       "      <td>Karayilekku Oru Kadal Dooram</td>\n",
       "      <td>2010</td>\n",
       "      <td>long</td>\n",
       "      <td>[Malayalam Language]</td>\n",
       "      <td>[India]</td>\n",
       "      <td>[Drama]</td>\n",
       "      <td>Anoop Chandran , is a famous writer and award ...</td>\n",
       "    </tr>\n",
       "    <tr>\n",
       "      <th>17</th>\n",
       "      <td>26067101</td>\n",
       "      <td>/m/0b6c_nw</td>\n",
       "      <td>Siam Sunset</td>\n",
       "      <td>1999</td>\n",
       "      <td>long</td>\n",
       "      <td>[]</td>\n",
       "      <td>[Australia, New Zealand]</td>\n",
       "      <td>[Romantic comedy, Romance Film, Comedy, World ...</td>\n",
       "      <td>Perry is an English chemist working for a pain...</td>\n",
       "    </tr>\n",
       "    <tr>\n",
       "      <th>18</th>\n",
       "      <td>26623942</td>\n",
       "      <td>/m/0bh9fbk</td>\n",
       "      <td>Kausthubham</td>\n",
       "      <td>2010</td>\n",
       "      <td>unknown</td>\n",
       "      <td>[Malayalam Language]</td>\n",
       "      <td>[India]</td>\n",
       "      <td>[Drama]</td>\n",
       "      <td>The film is the story of Yamuna  whose life is...</td>\n",
       "    </tr>\n",
       "    <tr>\n",
       "      <th>19</th>\n",
       "      <td>9548445</td>\n",
       "      <td>/m/02pjlrp</td>\n",
       "      <td>Archie: To Riverdale and Back Again</td>\n",
       "      <td>1990</td>\n",
       "      <td>long</td>\n",
       "      <td>[English Language]</td>\n",
       "      <td>[United States of America]</td>\n",
       "      <td>[Comedy]</td>\n",
       "      <td>Archie Andrews, fifteen years after graduating...</td>\n",
       "    </tr>\n",
       "    <tr>\n",
       "      <th>20</th>\n",
       "      <td>2487170</td>\n",
       "      <td>/m/07h9zj</td>\n",
       "      <td>Troops</td>\n",
       "      <td>1997</td>\n",
       "      <td>short</td>\n",
       "      <td>[English Language]</td>\n",
       "      <td>[United States of America]</td>\n",
       "      <td>[Fan film, Short Film, Indie]</td>\n",
       "      <td>An example of the film's comedic tone comes in...</td>\n",
       "    </tr>\n",
       "  </tbody>\n",
       "</table>\n",
       "</div>"
      ],
      "text/plain": [
       "      wikiID      freeID                                 name release_date  \\\n",
       "0     975900   /m/03vyhn                       Ghosts of Mars         2001   \n",
       "1    9363483  /m/0285_cd                     White Of The Eye         1987   \n",
       "2     261236   /m/01mrr1                    A Woman in Flames         1983   \n",
       "3   18998739  /m/04jcqvw            The Sorcerer's Apprentice         2002   \n",
       "4    6631279   /m/0gffwj                          Little city         1997   \n",
       "5     171005   /m/016ywb                              Henry V         1989   \n",
       "6   18296435  /m/04cqrs4                         Aaah Belinda         1986   \n",
       "7   11250635  /m/02r52hc              The Mechanical Monsters                \n",
       "8      77856    /m/0kcn7                         Mary Poppins         1964   \n",
       "10  21926710  /m/05p45cv                        White on Rice         2009   \n",
       "11  20604092  /m/0523t_1                          Anbu Thozhi         2007   \n",
       "12    156558   /m/014k4y                             Baby Boy         2001   \n",
       "13  11448183  /m/02rc_h4                     Bindiya Chamkegi         1984   \n",
       "14   9633533  /m/02pml15                             Vandanam         1989   \n",
       "15  29528534  /m/04j0lfk                        Anokha Rishta         1986   \n",
       "16  29772142  /m/0fq260_         Karayilekku Oru Kadal Dooram         2010   \n",
       "17  26067101  /m/0b6c_nw                          Siam Sunset         1999   \n",
       "18  26623942  /m/0bh9fbk                          Kausthubham         2010   \n",
       "19   9548445  /m/02pjlrp  Archie: To Riverdale and Back Again         1990   \n",
       "20   2487170   /m/07h9zj                               Troops         1997   \n",
       "\n",
       "    runtime             languages                   countries  \\\n",
       "0      long    [English Language]  [United States of America]   \n",
       "1      long    [English Language]            [United Kingdom]   \n",
       "2      long     [German Language]                   [Germany]   \n",
       "3      long    [English Language]              [South Africa]   \n",
       "4      long    [English Language]  [United States of America]   \n",
       "5      long    [English Language]            [United Kingdom]   \n",
       "6   unknown    [Turkish Language]                    [Turkey]   \n",
       "7   unknown    [English Language]  [United States of America]   \n",
       "8      long    [English Language]  [United States of America]   \n",
       "10     long                    []  [United States of America]   \n",
       "11  unknown      [Tamil Language]                     [India]   \n",
       "12     long    [English Language]  [United States of America]   \n",
       "13  unknown      [Hindi Language]                     [India]   \n",
       "14     long  [Malayalam Language]                     [India]   \n",
       "15     long      [Hindi Language]                     [India]   \n",
       "16     long  [Malayalam Language]                     [India]   \n",
       "17     long                    []    [Australia, New Zealand]   \n",
       "18  unknown  [Malayalam Language]                     [India]   \n",
       "19     long    [English Language]  [United States of America]   \n",
       "20    short    [English Language]  [United States of America]   \n",
       "\n",
       "                                               genres  \\\n",
       "0   [Thriller, Science Fiction, Horror, Adventure,...   \n",
       "1   [Thriller, Erotic thriller, Psychological thri...   \n",
       "2                                             [Drama]   \n",
       "3     [Family Film, Fantasy, Adventure, World cinema]   \n",
       "4   [Romantic comedy, Ensemble Film, Comedy-drama,...   \n",
       "5   [Costume drama, War film, Epic, Period piece, ...   \n",
       "6                                            [Comedy]   \n",
       "7   [Science Fiction, Adventure, Animation, Short ...   \n",
       "8   [Children's/Family, Musical, Fantasy, Comedy, ...   \n",
       "10     [Romantic comedy, Romance Film, Comedy, Indie]   \n",
       "11                                     [Romance Film]   \n",
       "12              [Crime Fiction, Drama, Coming of age]   \n",
       "13                              [Family Film, Comedy]   \n",
       "14                                           [Action]   \n",
       "15  [World cinema, Musical, Drama, Romantic drama,...   \n",
       "16                                            [Drama]   \n",
       "17  [Romantic comedy, Romance Film, Comedy, World ...   \n",
       "18                                            [Drama]   \n",
       "19                                           [Comedy]   \n",
       "20                      [Fan film, Short Film, Indie]   \n",
       "\n",
       "                                                 plot  \n",
       "0   Set in the second half of the 22nd century, th...  \n",
       "1   A series of murders of rich young women throug...  \n",
       "2   Eva, an upper class housewife, becomes frustra...  \n",
       "3   Every hundred years, the evil Morgana  returns...  \n",
       "4   Adam, a San Francisco-based artist who works a...  \n",
       "5   {{Plot|dateAct 1Act 2Act 3Act 4Act 5 Finally n...  \n",
       "6   Serap, a young actress with a strong, lively p...  \n",
       "7    The story starts as one of the robots flies i...  \n",
       "8   The film opens with Mary Poppins  perched in a...  \n",
       "10  Jimmy ([[Hiroshi Watanabe  loves dinosaurs and...  \n",
       "11  The film opens with a simpleton from a small v...  \n",
       "12  A young 20-year-old named Jody  lives with his...  \n",
       "13  Shalini 'Shalu' lives a wealthy lifestyle with...  \n",
       "14  Professor Kurian Fernandez , a convict escapes...  \n",
       "15  Mary, an orphan lives in an orphanage run by n...  \n",
       "16  Anoop Chandran , is a famous writer and award ...  \n",
       "17  Perry is an English chemist working for a pain...  \n",
       "18  The film is the story of Yamuna  whose life is...  \n",
       "19  Archie Andrews, fifteen years after graduating...  \n",
       "20  An example of the film's comedic tone comes in...  "
      ]
     },
     "execution_count": 40,
     "metadata": {},
     "output_type": "execute_result"
    }
   ],
   "source": [
    "df_clean.head(20)"
   ]
  },
  {
   "cell_type": "markdown",
   "metadata": {},
   "source": [
    "---\n",
    "## Scraping"
   ]
  },
  {
   "cell_type": "markdown",
   "metadata": {},
   "source": [
    "We already performed test to scrape data with the code below."
   ]
  },
  {
   "cell_type": "code",
   "execution_count": null,
   "metadata": {},
   "outputs": [],
   "source": [
    "import requests\n",
    "from bs4 import BeautifulSoup\n",
    "import pywikibot\n",
    "\n",
    "\n",
    "def scraping(wiki_ID):\n",
    "    list = []\n",
    "\n",
    "    query_base = \"https://query.wikidata.org/bigdata/namespace/wdq/sparql?format=json&query=\"\n",
    "\n",
    "    wiki_ID_encoded = wiki_ID.replace(\"/\",\"%2F\")\n",
    "\n",
    "    pre_str = ( \"https://query.wikidata.org/bigdata/namespace/wdq/sparql?format=json&query=PREFIX%20wd%3A%20%3Chttp%3A%2F%2\" +\n",
    "        \"Fwww.wikidata.org%2Fentity%2F%3E%0APREFIX%20wdt%3A%20%3Chttp%3A%2F%2Fwww.wikidata.org%2Fprop%2Fdirect%2F%3E%0APREF\" +\n",
    "        \"IX%20wikibase%3A%20%3Chttp%3A%2F%2Fwikiba.se%2Fontology%23%3E%0A%0ASELECT%20%20%3Fs%20%3FsLabel%20%3Fp%20%20%3Fo%2\" +\n",
    "        \"0%3FoLabel%20WHERE%20%7B%0A%20%3Fs%20wdt%3AP646%20%22\" )\n",
    "    post_str = ( \"%22%20%0A%0A%20%20%20SERVICE%20wikibase%3Alabel%20%7B%0A%20%20%20%20bd%3AserviceParam%20wikibase%3Alangua\" +\n",
    "        \"ge%20%22en%22%20.%0A%20%20%20%7D%0A%20%7D\" )\n",
    "\n",
    "    query = pre_str + wiki_ID_encoded + post_str\n",
    "\n",
    "    response = requests.get(query)\n",
    "    soup = BeautifulSoup(response.content, \"html.parser\")\n",
    "\n",
    "    results = soup.find(id=\"results\")\n",
    "\n",
    "    try:\n",
    "        entity_wiki_id = response.json()['results']['bindings'][0]['s']['value']\n",
    "    except:\n",
    "        print(\"Scraping failed\")\n",
    "        return [None,None]\n",
    "        \n",
    "\n",
    "    entity_wiki_id = response.json()['results']['bindings'][0]['s']['value']\n",
    "\n",
    "    str = entity_wiki_id.split('/')\n",
    "    entity = str[-1]\n",
    "    print(entity)\n",
    "    site = pywikibot.Site(\"wikidata\", \"wikidata\")\n",
    "    repo = site.data_repository()\n",
    "    item = pywikibot.ItemPage(repo, entity)\n",
    "    item_dict = item.get()\n",
    "    clm_dict = item_dict[\"claims\"] # Get the claim dictionary\n",
    "\n",
    "    #P57 for a movie director\n",
    "    try:\n",
    "        clm_list = clm_dict[\"P57\"]\n",
    "        for clm in clm_list:\n",
    "                ...\n",
    "                clm_trgt = clm.getTarget()\n",
    "        list.append(clm_trgt.labels['en'])\n",
    "    except:\n",
    "        list.append(None)\n",
    "\n",
    "    #P462 for the color\n",
    "    try:\n",
    "        clm_list = clm_dict[\"P462\"]\n",
    "        for clm in clm_list:\n",
    "                ...\n",
    "                clm_trgt = clm.getTarget()\n",
    "        list.append(clm_trgt.labels['en'])\n",
    "    except:\n",
    "        list.append(None)\n",
    "\n",
    "    print('scraped sucessfuly')\n",
    "    return list"
   ]
  },
  {
   "cell_type": "code",
   "execution_count": null,
   "metadata": {},
   "outputs": [],
   "source": [
    "sub_df = df_clean\n",
    "\n",
    "list2 = [[]]\n",
    "for index, row in sub_df.iterrows():\n",
    "    list2.append(scraping(row['freeID']))"
   ]
  },
  {
   "cell_type": "markdown",
   "metadata": {},
   "source": [
    "---\n",
    "## Graph construction\n",
    "\n",
    "The aim of the project is to build a weighted graph connecting all movies together. There are two ways to represent a graph:\n",
    "- Adjacency Matrix\n",
    "- Adjacency List\n",
    "\n",
    "However, as calculated in the README, storing the Adjacency Matrix will be about 3.6 GB if we assume each weight is a float. We believe this file is too large, so we will represent it as an adjacency list, and for each vertex we will store the top 100 (for example) most similar movies. This implies that the graph will be directed. Also, we take more than the number of movies we will recommend directly because we want to be able to apply some filters in the recommandation tool (by language for example) without having to recompute the whole graph. For the compute time, we will have approximately 42'306×42'305÷2 = 894'877'665 comparisons to make, which we're confident we'll be able to compute in a reasonable time."
   ]
  },
  {
   "cell_type": "markdown",
   "metadata": {},
   "source": [
    "---\n",
    "## Choice of attributes based on data exploratory analysis\n",
    "\n",
    "We try to have a maximum of useful attributes to estimate the similarity between the films of the dataset, and to keep as much movies as possible to maximize the chance of being able to recommand similar movies.\n",
    "\n",
    "When we \"filter\" an attribute, we remove all instances that are missing that attribute's information.\n",
    "\n",
    "We believe that the mandatory attribute conditions to be retained in our final dataset are:\n",
    "* A present title: without a film name, there is no film (hard to name it, to advise it)\n",
    "* At least one genre labeled (probably one of the most significant attributes for similarity)\n",
    "* A plot of at least 10 existing words (impose a minimum size so that the subsequent analysis of the topics is accurate)\n",
    "\n",
    "We eliminate the 'revenue' attribute, due to the small number of movies described by this attribute.\n",
    "\n",
    "The attributes that are not filtered, but kept to help with the information they carry are:\n",
    "* Runtime\n",
    "* Release date\n",
    "* Language: will be ignored if not provided\n",
    "* Country: will be ignored if not provided\n",
    "* Characters: Will be ignored if not provided.\n",
    "\n",
    "By exploring the wikidata pages by scraping, we recover the name of the producer and the information on the color of the film. These two attributes\n",
    "were the most constantly present among other more scattered ones (filming location, cinematographer, composer, etc.). We therefore create an additional dataset thanks to the code present in the \"scraping\" section above.\n",
    "\n",
    "We discretize the `date_release` in years of publication. The runtime is transformed into short/long categories.\n",
    "\n",
    "Among the attributes selected for further analysis, we can create attributes resulting from a multiplication between two attributes, such as color and release date.\n",
    "\n",
    "We have these attributes, with their possible values if categorized in `df_clean`:\n",
    "- `Plot`\n",
    "- `Title`\n",
    "- `Release_date`\n",
    "- `Genres`: genres list\n",
    "- `Countries`: countries list\n",
    "- `Language`: languages list\n",
    "- `Runtime`: `short`, `long` or `don't know`\n",
    "- `Director`: Director name or `None`\n",
    "- `Color`: colored, black and white or `None`\n",
    "\n",
    "In `df_clean_char`, we holded only the actors names and character names."
   ]
  },
  {
   "cell_type": "markdown",
   "metadata": {},
   "source": [
    "---\n",
    "## Methods to study similarities accross chosen attributes"
   ]
  },
  {
   "cell_type": "markdown",
   "metadata": {},
   "source": [
    "### 1. Computing the global similarity between movies taking into account all attributes\n"
   ]
  },
  {
   "cell_type": "markdown",
   "metadata": {},
   "source": [
    "In the following parts, we will see methods to compute the respective similarity between movies based on each respective feature. We will want to merge all these similarities into one global similarity metric that will take into accounts all attributes.\n",
    "We compute the total similarity between two films as followed:\n",
    "$$\n",
    "S_{tot}=\\sum_{i}^{N} w_iS_i\n",
    "$$\n",
    "where $w_i$ is the weight associated to the similarity $S_i \\in [0,1]$ of the attribute $i \\in $ {plot, title, genre, runtime, release_year, country, language, actors, characters, director, color }."
   ]
  },
  {
   "cell_type": "markdown",
   "metadata": {},
   "source": [
    "### 2. Algorithm to study similarity between movies attributes\n",
    "\n",
    "In this part we will propose several methods in order to assess the similarity between movies based on the attributes that we chose here-above. In the [Annexe: Mathematical definitions related to similarity](#Annexe:-Mathematical-definitions-related-to-similarity) we explain the mathematical details and definitions on which the following algorithms are based."
   ]
  },
  {
   "cell_type": "code",
   "execution_count": null,
   "metadata": {},
   "outputs": [],
   "source": [
    "import math\n",
    "import sklearn\n",
    "from sklearn.feature_extraction.text import TfidfVectorizer\n",
    "import seaborn as sns\n",
    "import gensim"
   ]
  },
  {
   "cell_type": "markdown",
   "metadata": {},
   "source": [
    "#### Jaccard similarity implementation\n",
    "**Method**\n",
    "The jaccard similarity is more appropriate to compute similarities between datasets of categorical attributes where we want to see if these datasets have some attributes in common or not, and how many they are.\n",
    "\n",
    "**Implementation**\n",
    "`jaccard_similarity` function written here below. Since we compare to what extent different movies attributes contain the exact same words, we may need to add a lemmatizer for example to take care of same words being in the singular or plural form, or having uppercase or lowercase initial letter.\n",
    "\n",
    "**Movie Attribute similarity that can be studied**\n",
    "- Movie genre\n",
    "- Movie Language \n",
    "- Movie Country\n",
    "- Actors\n",
    "- Characters\n",
    "- Director\n",
    "\n",
    "Here we can use this method for these attributes because we want to find which of those attributes contain the exact same words and study the similarity based on this analysis. "
   ]
  },
  {
   "cell_type": "code",
   "execution_count": 63,
   "metadata": {},
   "outputs": [
    {
     "name": "stdout",
     "output_type": "stream",
     "text": [
      "Example of similarities computed with jaccard similarity for the attribute -Movie genre- :\n",
      "Between lists 1 and 2: 0.375\n",
      "Between lists 3 and 4: 0.2\n",
      "Between lists 5 and 6: 0.3333333333333333\n",
      "Between lists 3 and 6: 0.3333333333333333\n",
      "Between lists 3 and 7: 0.0\n",
      "Between lists 2 and 8: 0.14285714285714285\n",
      "Between lists 7 and 9: 0.0\n",
      "Between lists 6 and 8: 0.0\n",
      "Between lists 8 and 8: 1.0\n"
     ]
    }
   ],
   "source": [
    "def jaccard_similarity(x,y):\n",
    "  \"\"\" returns the jaccard similarity between two lists \"\"\"\n",
    "  intersection_cardinality = len(set.intersection(*[set(x), set(y)]))\n",
    "  union_cardinality = len(set.union(*[set(x), set(y)]))\n",
    "  if union_cardinality == 0:\n",
    "    return 0.0\n",
    "  else:\n",
    "    return intersection_cardinality/float(union_cardinality)\n",
    "\n",
    "list1 = ['Drama', 'Mystery', 'Fantasy', 'Adventure']\n",
    "list2 = ['Fantasy Adventure', 'Adventure', 'Epic', 'Fantasy', 'Drama', 'Action', 'Sword and sorcery films']\n",
    "list3= ['Satire', 'Comedy', 'Family film']\n",
    "list4= ['Musical', 'Drama', 'Comedy']\n",
    "list5= ['Romantic comedy', 'Romance Film', 'Comedy']\n",
    "list6= ['Comedy']\n",
    "list7=[]\n",
    "list8= ['Action']\n",
    "list9=[]\n",
    "\n",
    "print(\"Example of similarities computed with jaccard similarity for the attribute -Movie genre- :\")\n",
    "print(\"Between lists 1 and 2:\", jaccard_similarity(list1, list2))\n",
    "print(\"Between lists 3 and 4:\",jaccard_similarity(list3, list4))\n",
    "print(\"Between lists 5 and 6:\",jaccard_similarity(list5, list6))\n",
    "print(\"Between lists 3 and 6:\",jaccard_similarity(list3, list6))\n",
    "print(\"Between lists 3 and 7:\",jaccard_similarity(list3, list7))\n",
    "print(\"Between lists 2 and 8:\",jaccard_similarity(list2, list8))\n",
    "print(\"Between lists 7 and 9:\",jaccard_similarity(list7, list9))\n",
    "print(\"Between lists 6 and 8:\",jaccard_similarity(list6, list8))\n",
    "print(\"Between lists 8 and 8:\",jaccard_similarity(list8, list8))"
   ]
  },
  {
   "cell_type": "markdown",
   "metadata": {},
   "source": [
    "#### Similarity between binary attributes\n",
    "**Method**\n",
    "\n",
    "We have a unique discrete attribute that can take the values: $\\left\\{1, 0, \\text{Nan} \\right\\}$, where NaN is the case where we don't have information about this attribute.  \n",
    "\n",
    "**Implementation**\n",
    "\n",
    "The similarity here is simply 1 if both attributes are equal to 1 or both equal to 0. If at least one of the two attributes is Nan then the similarity is 0.\n",
    "\n",
    "**Movie Attribute similarity that can be studied**\n",
    "\n",
    "- Color (1: Movie in colours, 0: Movie in black and white, NaN)\n",
    "- Runtime (1: full-length film, 0: short film, NaN)"
   ]
  },
  {
   "cell_type": "markdown",
   "metadata": {},
   "source": [
    "#### Similarity between positive integers attributes\n",
    "**Method**\n",
    "We want compute the similiarity between two one-dimension continuous variables that belong to $\\mathbb{N}$. \n",
    "\n",
    "**Implementation**\n",
    "We start by computing the distance between the two positive integer by computing the manhattan distance: \n",
    "$$\n",
    "d(A,B)=|A-B|\n",
    "$$\n",
    "We want to normalize this distance so that $d \\in [0,1]$. We do a Min-Max normalization that performs a linear transformation on the original data. This technique gets all the scaled data in the range $[0,1]$. This allows to preserve the relationships among the original data values. The formula to achieve this is the following:\n",
    "$$\n",
    "d_{scaled}=\\frac{d-d_{min}}{d_{max}-d_{min}}\n",
    "$$\n",
    "The cost of having this bounded range is that we will end up with smaller standard deviations, which can suppress the effect of outliers.\n",
    "We can finally compute the similarity based on this distance:\n",
    "$$\n",
    "S=1-d_{scaled}\n",
    "$$\n",
    "where $S \\in [0,1]$.\n",
    "\n",
    "**Movie Attribute similarity that can be studied**\n",
    "- Release year"
   ]
  },
  {
   "cell_type": "markdown",
   "metadata": {},
   "source": [
    "#### tf-idf : Term frequency-inverse document frequency\n",
    "**Term frequency and Inverse document frequency**\n",
    "\n",
    "$$\n",
    "tf(t,d)=\\frac{f_{t,d}}{ \\sum_{t' \\in d} f_{t',d} } \\quad \\textrm{and} \\quad idf(t,D)=log(\\frac{N}{|d\\in D:t\\in d|})\n",
    "$$\n",
    "where $f_{t,d}$ = raw frequency = number of times a term $t$ occurs in document $d$, $ \\sum_{t' \\in d} f_{t',d}$=total number of terms $t'$ in $d$ by suming each independent occurrence\n",
    "<br>\n",
    "where $N$=$|D|$= number of documents in corpus $D$, $|d\\in D:t\\in d|$= number of documents where t appears (where $tf(t,d)\\neq 0$)\n",
    "\n",
    "To prevent bias towards longer documents, the term frequency can be computed as follow:\n",
    "$$\n",
    "tf(t,d)=0.5+0.5\\frac{f_{t,d}}{max(f_{t',d}:t'\\in d)}\n",
    "$$\n",
    "To avoid divinding by zero, the idf denominator can ba adjusted as follow:\n",
    "$$\n",
    "idf(t,D)=log(\\frac{N}{1+|d\\in D:t\\in d|})\n",
    "$$\n",
    "**Term frequency-inverse document frequency**\n",
    "\n",
    "From the term frequency and the inverse document frequency we can compute the tf-idf:\n",
    "$$\n",
    "tf-idf(t,D)=tf(t,d) \\cdot idf(t,D)\n",
    "$$\n",
    "\n",
    "The tf-idf reflects how important a word is to a document in corpus. tf-idf increase proportionally with the number of times a word appear in a document, but it is offset by the number of documents in the corpus that contains the word. It is high when there is high term frequency in document d **and** low document frequency of the term in the whole corpus. This helps to adjust the fact that some words appear more frequently that we can define as common terms. It tends to filter out those common words.\n",
    "\n",
    "**Implementation**\n",
    "\n",
    "tfidf can be implemented using the `sklearn` or `GenSim` opensource library. After obtaining tf-idf associated for each word in each text, we can associate to each text a vector composed of his words tf-idf and null values for other words.\n",
    "Then we can compute the **cosine similarity** between those texts represented as vectors.\n",
    "\n",
    "**Movie Attribute similarity that can be studied**\n",
    "- Title"
   ]
  },
  {
   "cell_type": "code",
   "execution_count": 56,
   "metadata": {},
   "outputs": [
    {
     "name": "stdout",
     "output_type": "stream",
     "text": [
      "Example cosine similarity between vectors [1,0] and [1,1]:  0.7071067811865475\n"
     ]
    }
   ],
   "source": [
    "def dot(A,B): \n",
    "  return (sum(a*b for a,b in zip(A,B)))\n",
    "\n",
    "def cosine_similarity(a,b):\n",
    "  \"\"\" returns cosine similarity between two lists \"\"\"\n",
    "  return dot(a,b)/((dot(a,a)**.5)*(dot(b,b)**.5)) \n",
    "\n",
    "print(\"Example cosine similarity between vectors [1,0] and [1,1]: \", cosine_similarity([1,0],[1,1]))"
   ]
  },
  {
   "cell_type": "code",
   "execution_count": 57,
   "metadata": {},
   "outputs": [
    {
     "name": "stdout",
     "output_type": "stream",
     "text": [
      "Example cosine similarities between 8 movie titles: \n",
      " [[1.         0.31737852 0.43014588 0.38513794 0.22205531 0.\n",
      "  0.09331816 0.20685603]\n",
      " [0.31737852 1.         0.13648408 0.07465232 0.22333866 0.\n",
      "  0.09385748 0.2563455 ]\n",
      " [0.43014588 0.13648408 1.         0.37161231 0.41268258 0.\n",
      "  0.09004092 0.06449977]\n",
      " [0.38513794 0.07465232 0.37161231 1.         0.36264365 0.\n",
      "  0.         0.24689427]\n",
      " [0.22205531 0.22333866 0.41268258 0.36264365 1.         0.33392025\n",
      "  0.39195654 0.10554557]\n",
      " [0.         0.         0.         0.         0.33392025 1.\n",
      "  0.25156386 0.        ]\n",
      " [0.09331816 0.09385748 0.09004092 0.         0.39195654 0.25156386\n",
      "  1.         0.        ]\n",
      " [0.20685603 0.2563455  0.06449977 0.24689427 0.10554557 0.\n",
      "  0.         1.        ]]\n"
     ]
    },
    {
     "data": {
      "image/png": "[encoded data removed]",
      "text/plain": [
       "<Figure size 500x500 with 2 Axes>"
      ]
     },
     "metadata": {},
     "output_type": "display_data"
    }
   ],
   "source": [
    "from sklearn.metrics.pairwise import cosine_similarity\n",
    "\n",
    "#list1= 'Drama Mystery Fantasy Adventure'\n",
    "#list2= 'Fantasy Adventure  Adventure  Epic  Fantasy  Drama  Action Sword and sorcery'\n",
    "#list3= 'Satire Comedy Family'\n",
    "#list4= 'Musical Drama Comedy'\n",
    "#list5= 'Romantic Comedy Romance Comedy'\n",
    "#list6= 'Comedy'\n",
    "\n",
    "list1= 'Harry Potter and the Chamber of Secrets'\n",
    "list2= 'Gnomes and Trolls: The Secret Chamber'\n",
    "list3= 'Harry Potter and the Half-Blood Prince'\n",
    "list4= 'The Taking of Prince Harry'\n",
    "list5= 'The Prince and Me'\n",
    "list6= 'Despicable Me'\n",
    "list7= 'Just Me and You'\n",
    "list8= 'The Secret Life of Bees'\n",
    "headlines = [list1,list2,list3,list4,list5,list6,list7,list8]\n",
    "\n",
    "labels = [headline[:30] for headline in headlines] \n",
    "def create_heatmap(similarity, cmap = \"YlGnBu\"):\n",
    "  df = pd.DataFrame(similarity)\n",
    "  df.columns = labels\n",
    "  df.index = labels\n",
    "  fig, ax = plt.subplots(figsize=(5,5))\n",
    "  sns.heatmap(df, cmap=cmap)\n",
    "\n",
    "vectorizer = sklearn.feature_extraction.text.TfidfVectorizer()\n",
    "X = vectorizer.fit_transform(headlines)\n",
    "#print(vectorizer.get_feature_names())\n",
    "list_vectors = X.toarray()\n",
    "print(\"Example cosine similarities between 8 movie titles: \\n\",cosine_similarity(list_vectors))\n",
    "create_heatmap(cosine_similarity(list_vectors))"
   ]
  },
  {
   "cell_type": "markdown",
   "metadata": {},
   "source": [
    "#### GloVe algorithm\n",
    "**Definition**\n",
    "The `GloVe` algorithm is an opensource standford algorithm that associates similarity between words by obtaining vectors representations for words and by mapping them into a meaningful space.\n",
    "\n",
    "**Implementation** \n",
    "We can apply soft cosine similarity computation to study similarity between texts. The matrix S from the soft cosine definition can be calculated with the library `GenSim` and using the `GloVe` algorithm. We would obtain a dataset containing a vector for all the words in our corpus and we could compute the matrix S associating a similarity matrix to all of these words. Then with the soft cosine similarity we could analyse the similarity between the documents in our corpus. \n",
    "\n",
    "**Movie Attribute similarity that can be studied**\n",
    "- Title"
   ]
  },
  {
   "cell_type": "code",
   "execution_count": 59,
   "metadata": {},
   "outputs": [],
   "source": [
    "from re import sub\n",
    "from gensim.utils import simple_preprocess\n",
    "import gensim.downloader as api\n",
    "from gensim.corpora import Dictionary\n",
    "from gensim.models import TfidfModel\n",
    "from gensim.similarities import WordEmbeddingSimilarityIndex\n",
    "from gensim.similarities import SparseTermSimilarityMatrix\n",
    "from gensim.similarities import SoftCosineSimilarity\n",
    "\n",
    "query= 'Harry Potter and the Chamber of Secrets'\n",
    "\n",
    "list2= 'Gnomes and Trolls: The Secret Chamber'\n",
    "list3= 'Harry Potter and the Half-Blood Prince'\n",
    "list4= 'The Taking of Prince Harry'\n",
    "list5= 'The Prince and Me'\n",
    "list6= 'Despicable Me'\n",
    "list7= 'Just Me and You'\n",
    "list8= 'The Secret Life of Bees'\n",
    "documents = [list2,list3,list4,list5,list6,list7,list8]\n",
    "stopwords = ['the', 'and', 'are', 'a']\n",
    "\n",
    "# From: https://github.com/RaRe-Technologies/gensim/blob/develop/docs/notebooks/soft_cosine_tutorial.ipynb\n",
    "def preprocess(doc):\n",
    "    # Tokenize, clean up input document string\n",
    "    doc = sub(r'<img[^<>]+(>|$)', \" image_token \", doc)\n",
    "    doc = sub(r'<[^<>]+(>|$)', \" \", doc)\n",
    "    doc = sub(r'\\[img_assist[^]]*?\\]', \" \", doc)\n",
    "    doc = sub(r'http[s]?://(?:[a-zA-Z]|[0-9]|[$-_@.&+]|[!*\\(\\),]|(?:%[0-9a-fA-F][0-9a-fA-F]))+', \" url_token \", doc)\n",
    "    return [token for token in simple_preprocess(doc, min_len=0, max_len=float(\"inf\")) if token not in stopwords]\n",
    "\n",
    "# Preprocess the documents, including the query string\n",
    "corpus = [preprocess(document) for document in documents]\n",
    "query = preprocess(query)"
   ]
  },
  {
   "cell_type": "code",
   "execution_count": 61,
   "metadata": {},
   "outputs": [
    {
     "name": "stderr",
     "output_type": "stream",
     "text": [
      "100%|██████████| 18/18 [00:00<00:00, 97.30it/s]\n"
     ]
    }
   ],
   "source": [
    "# Load the model: this is a big file, can take a while to download and open\n",
    "glove = api.load(\"glove-wiki-gigaword-50\")    \n",
    "similarity_index = WordEmbeddingSimilarityIndex(glove)\n",
    "\n",
    "# Build the term dictionary, TF-idf model\n",
    "dictionary = Dictionary(corpus+[query])\n",
    "tfidf = TfidfModel(dictionary=dictionary)\n",
    "\n",
    "# Create the term similarity matrix.  \n",
    "similarity_matrix = SparseTermSimilarityMatrix(similarity_index, dictionary, tfidf)"
   ]
  },
  {
   "cell_type": "code",
   "execution_count": 62,
   "metadata": {},
   "outputs": [
    {
     "name": "stdout",
     "output_type": "stream",
     "text": [
      "Soft similarities computed between the title 'Harry Potter and the Chamber of Secrets' and the other titles:\n",
      "1 \t 0.622 \t Harry Potter and the Half-Blood Prince\n",
      "2 \t 0.580 \t The Taking of Prince Harry\n",
      "0 \t 0.550 \t Gnomes and Trolls: The Secret Chamber\n",
      "6 \t 0.370 \t The Secret Life of Bees\n",
      "5 \t 0.000 \t Just Me and You\n",
      "4 \t 0.000 \t Despicable Me\n",
      "3 \t 0.000 \t The Prince and Me\n"
     ]
    },
    {
     "name": "stderr",
     "output_type": "stream",
     "text": [
      "/Users/camilleguillaume/opt/anaconda3/envs/ada/lib/python3.9/site-packages/gensim/similarities/termsim.py:382: RuntimeWarning: divide by zero encountered in divide\n",
      "  normalized_corpus = np.multiply(corpus, 1.0 / corpus_norm)\n",
      "/Users/camilleguillaume/opt/anaconda3/envs/ada/lib/python3.9/site-packages/gensim/similarities/termsim.py:382: RuntimeWarning: invalid value encountered in multiply\n",
      "  normalized_corpus = np.multiply(corpus, 1.0 / corpus_norm)\n"
     ]
    }
   ],
   "source": [
    "# Compute Soft Cosine Measure between the query and the documents.\n",
    "# From: https://github.com/RaRe-Technologies/gensim/blob/develop/docs/notebooks/soft_cosine_tutorial.ipynb\n",
    "query_tf = tfidf[dictionary.doc2bow(query)]\n",
    "\n",
    "index = SoftCosineSimilarity(tfidf[[dictionary.doc2bow(document) for document in corpus]],similarity_matrix)\n",
    "\n",
    "doc_similarity_scores = index[query_tf]\n",
    "\n",
    "# Output the sorted similarity scores and documents\n",
    "sorted_indexes = np.argsort(doc_similarity_scores)[::-1]\n",
    "print(\"Soft similarities computed between the title 'Harry Potter and the Chamber of Secrets' and the other titles:\")\n",
    "for idx in sorted_indexes:\n",
    "    print(f'{idx} \\t {doc_similarity_scores[idx]:0.3f} \\t {documents[idx]}')"
   ]
  },
  {
   "cell_type": "markdown",
   "metadata": {},
   "source": [
    "### 3. Topic extraction method\n",
    "To compare plots, we will use a topic extraction algorithm. There are a lot that exist, but we will concentrate on three possible: LDA, Doc2Vec and BERTopic."
   ]
  },
  {
   "cell_type": "markdown",
   "metadata": {},
   "source": [
    "#### Preprocessing method on a document corpus before topic extraction\n",
    "\n",
    "Here is a preprocessing approach that can be implemented before using a topic extraction analysis\n",
    "1. Removing the stop words from the documents which are the most common words occuring in texts that give no additional concept. It can be done with `Java` using `MySQL`.\n",
    "2. Removing the numbers appart from years, the non-asci characters, and most common occuring names (ex: James, Robert, John)\n",
    "3. Handle pural and singular form of the same word by lemmatizing.\n",
    "4. We can filter the words using tf-idf. We can compute the tf-idf for each word of each plot and keep the words with highest tf-idf score. The threshold for a word to be kept has to be defined."
   ]
  },
  {
   "cell_type": "markdown",
   "metadata": {},
   "source": [
    "#### LDA: Latent Dirichlet Allocation\n",
    "\n",
    "<div>\n",
    "<img src=\"images/LDA_example.png\" width=\"800\"/>\n",
    "</div>\n",
    "\n",
    "**Definition**\n",
    "\n",
    "LDA is an algorithm that can be used for topic extraction in texts. It is an unsupervised machine-learning model that takes documents as input and finds topics as output. A topic is represented as a weighted list of words. The model also says in what percentage each document talks about each topic. \n",
    "\n",
    "**Implementation**\n",
    "\n",
    "LDA can be implemented using the `GenSim` library. When using LDA to analyse topics in a corpus, it needs some preprocessing steps before applying the algorithm to make it more efficient. We detailed one preprocessing approach above.\n",
    "\n",
    "\n",
    "After this processing we can apply LDA on our database by tuning some parameters:\n",
    "<br>\n",
    "$K$: the number of topics we look for\n",
    "<br>\n",
    "$\\alpha$: K-dimension vector of positive reals that represent the prior weights of topic K in a document which affects the document-topic distribution. \n",
    "<br>\n",
    "$\\eta$: V-dimension vector of positive reals that represents the prior weights of each words in topics which affects the topic-word distribution\n",
    "\n",
    "If we chose a symetric LDA, the weights $\\alpha$ would be the same for all topics and the weights $\\eta$ would be the same for all words in a topic. The smaller the $\\alpha$ the fewer topics per document, the fewer the $\\eta$ the fewer words per topic."
   ]
  },
  {
   "cell_type": "markdown",
   "metadata": {},
   "source": [
    "#### Doc2Vec topic extraction\n",
    "**Definition**\n",
    "\n",
    "Doc2Vec is an unsupervised algorithm that learns fixed-length feature vectors for paragraphs/documents/texts. Then we can compare these vectors to assess the similarity between documents. Doc2vec allows to generate a semantic space which is a spatial space where distance among vectors are indicator of semantic similarity. This semantic space consisting of word and document vectors is a continuous representation of topics, unlike LDA where topics are sampled from a discrete space. It means that the dense areas having high concentration of document can be thought of having similar topics and can be best represented by nearby embedded words.\n",
    "\n",
    "**Implementation**\n",
    "\n",
    "It can be implemented using the `GenSim` library with the class `Doc2Vec` that extends the class `Word2Vec`. "
   ]
  },
  {
   "cell_type": "markdown",
   "metadata": {},
   "source": [
    "#### BERTopic\n",
    "\n",
    "<div>\n",
    "<img src=\"images/BERTopic.png\" width=\"600\"/>\n",
    "</div>\n",
    "\n",
    "**Definition**\n",
    "BERTopic is a guided semi-supervised topic modeling algorithm. Contrary to LDA, it uses embeddings (thus semi-supervised) and class-based tf-idf (ctf-idf) to find easily interpretable topics and makes it more stable to small variations. It works in three stages:\n",
    "\n",
    "- Embed the documents\n",
    "- Cluster the documents\n",
    "- Create a list of topics and their representation\n",
    "\n",
    "With this algorithm it is possible to find a list of topics and also give the probability of each topic in each document.\n",
    "\n",
    "**Implementation**\n",
    "\n",
    "BERTopic can be implemented using the python `BerTopic` library. As with LDA, we can preprocess the documents (plots in our case) before giving it to the BERTopic for better results.\n",
    "\n",
    "Each stage of the BERTopic can be parameterized to get better results:\n",
    "<br>\n",
    "$Embedding$: by default it uses the `paraphrase-MiniLM-L6-v2` sentence transformers, but we can use any other embedding technique.\n",
    "<br>\n",
    "$Clustering$: by default it uses HDBSCAN (hierarchical DBSCAN) to cluster the documents, but to apply this efficiently UMAP is used to reduce the dimensionality of the embeddings. It is possible to change the dimension reduction algorithm and the clustering algorithm, for example we could import K-means form `sklearn.cluster` and use that.\n",
    "<br>\n",
    "$Topic$ $representation$: by default it uses class-based tf-idf, meaning it adjusts the tf-idf inside each class (cluster) in relation with the frequency of a word inside the class. Here again it can be tuned for example to try to show different representatives of a cluster. This can be useful to avoid having \"bycycle\", \"cycling\" and \"bike\" as the representatives of a cluster, where only one of them would have been enough."
   ]
  },
  {
   "cell_type": "markdown",
   "metadata": {},
   "source": [
    "#### Computation of similarity from topic extraction\n",
    "\n",
    "Regardless of the method of analysis of the plot, we can have a vector representation at the end:\n",
    "- Doc2Vec gives a vector directly\n",
    "- LDA gives the freqency of each topic per document. We can build a vector for each document where each element represents a topic, and it will be proportional to the frequency of the topic.\n",
    "- BERTopic gives a probability of each topic per document. Similarly to LDA we can build a vector where each element is a topic and fill it with the corresponding probability.\n",
    "\n",
    "We can then compare these vectors using the cosine similarity for example."
   ]
  },
  {
   "cell_type": "markdown",
   "metadata": {},
   "source": [
    "### 4. Tuning the weights using sequels\n",
    "\n",
    "How to tell if our similarity function between two movies is working well? First of all, we can't say it for sure, since it is a subjective question. However usually we can still agree on these points:\n",
    "\n",
    "* Movies that are part of a sequel should have a high similarity\n",
    "* Movies with completely different genres should have a low similarity (for exmaple one is a \"Adventure/Aciton\" movie and the other a \"Romantic Comedy\")\n",
    "\n",
    "Hence we can build two datasets, one of pairs of movies we expect to have a high similarity and the other of pairs of movies we expect to have low similarity. We can then use these datasets to assess if our similarity function is giving the \"right\" values.\n",
    "\n",
    "**Movies from sequels**\n",
    "\n",
    "Before creating pairs of movies that are similar we should group movies by sequels. Unfortunately, we don't have this data directly accessible in our dataset, but by using the name.clusters.txt file we can have characters that are re-used. It doesn't necesseraly mean that the movie is a sequel (for example with Sherlock Holmes it can be the another representation of him playing), but we still expect these movies to be similar.\n",
    "\n",
    "First, using the `df_char` dataframe from character.metadata.tsv and the `freeID_char_map` given for each character, we find the unique `WikiID` movie in which the character is played."
   ]
  },
  {
   "cell_type": "code",
   "execution_count": 41,
   "metadata": {},
   "outputs": [],
   "source": [
    "df_char_names[\"WikiID\"] = [ df_char[df_char['freeID_char_map'] == x][\"WikiID\"].item() for x in df_char_names[\"freeID_char_map\"]]"
   ]
  },
  {
   "cell_type": "markdown",
   "metadata": {},
   "source": [
    "Then we group all characters together, so for each character we have a list of movies in which he played (represented by their WikiID)."
   ]
  },
  {
   "cell_type": "code",
   "execution_count": 42,
   "metadata": {},
   "outputs": [
    {
     "name": "stdout",
     "output_type": "stream",
     "text": [
      "<class 'pandas.core.frame.DataFrame'>\n",
      "Index: 970 entries, 'Baby' Louise to Zack Martin\n",
      "Data columns (total 1 columns):\n",
      " #   Column  Non-Null Count  Dtype \n",
      "---  ------  --------------  ----- \n",
      " 0   WikiID  970 non-null    object\n",
      "dtypes: object(1)\n",
      "memory usage: 15.2+ KB\n"
     ]
    }
   ],
   "source": [
    "df_char_grouped = df_char_names.groupby(\"char_name\")[\"WikiID\"].apply(set).to_frame()\n",
    "df_char_grouped.info()"
   ]
  },
  {
   "cell_type": "markdown",
   "metadata": {},
   "source": [
    "We could stop here, but right now we still have repetitions: for example Harry Potter and Hermione Granger will appear in the same movies, it would be good to group them together to have a list of separate sequels. However we will have a problem: what to do if only some actors repeat? For example if we take \"The Lord of the Rings\" and \"The Hobbit\", Gandalf will appear in both, Aragorn only in \"The Lord of the Rings\" and Thorin Oakenshield only in \"The Hobbit\". In our case, we will assume if some characters repeat in these sequels and others don't, it's still highly likely very similar movies, so we will group them all together.\n",
    "\n",
    "In other words, we group the movies together until we have disjoint movie sets.\n",
    "\n",
    "Because the list of grouped characters isn't that big (970 rows), we can work with python lists instead of the panda dataframe. We create a list of movie sets (each element of the list comes from one character):"
   ]
  },
  {
   "cell_type": "code",
   "execution_count": 43,
   "metadata": {},
   "outputs": [],
   "source": [
    "starting_list = []\n",
    "# Iterate over each row\n",
    "for index, rows in df_char_grouped.iterrows():\n",
    "    # append the list to the final list\n",
    "    starting_list.append(rows[\"WikiID\"])"
   ]
  },
  {
   "cell_type": "markdown",
   "metadata": {},
   "source": [
    "Then we join the movies sets from different characters if they both appear in at least one same movie. To do it, we create an empty list, and then iteratively check if we should append a new set (if it has no intersection with the previously added) or make a union with an already existing set (if there is an intersection). To assure that the sets are completely disjoint we run this merging algorithm until the starting \"individual\" list has the same lenght as the \"joined\" list."
   ]
  },
  {
   "cell_type": "code",
   "execution_count": 44,
   "metadata": {},
   "outputs": [
    {
     "name": "stdout",
     "output_type": "stream",
     "text": [
      "583\n"
     ]
    }
   ],
   "source": [
    "joined_characters = []\n",
    "same = False\n",
    "\n",
    "while not(same):    \n",
    "    for i in starting_list:\n",
    "        joined = False\n",
    "        for j in range(len(joined_characters)):\n",
    "            if joined_characters[j] & i: #there is an intersection in the sets\n",
    "                joined_characters[j] = joined_characters[j] | i #the union of both sets\n",
    "                joined = True\n",
    "        if joined == False:\n",
    "            joined_characters.append(i)\n",
    "    \n",
    "    if len(starting_list) == len(joined_characters):\n",
    "        same = True\n",
    "    else:\n",
    "        starting_list = joined_characters\n",
    "        joined_characters = []\n",
    "\n",
    "print(len(joined_characters))"
   ]
  },
  {
   "cell_type": "markdown",
   "metadata": {},
   "source": [
    "We get 583 different sequels, which will be enough to test for similarities. To actually compute a similarity we will need to choose a sequel, and then choose a pair of movies in this sequel. If a sequel has n movies in it, the number of different pairs we can build is n*(n-1)/2. If we compute this for all sequels, we find that we can have 10929 different possible pairs:"
   ]
  },
  {
   "cell_type": "code",
   "execution_count": 45,
   "metadata": {},
   "outputs": [
    {
     "name": "stdout",
     "output_type": "stream",
     "text": [
      "10929.0 different possible pairs\n"
     ]
    }
   ],
   "source": [
    "sum_pairs = 0\n",
    "for i in joined_characters:\n",
    "    n = len(i)\n",
    "    sum_pairs = sum_pairs + n*(n-1)/2\n",
    "\n",
    "print(sum_pairs, \"different possible pairs\")"
   ]
  },
  {
   "cell_type": "markdown",
   "metadata": {},
   "source": [
    "**Movies with different genres**\n",
    "\n",
    "For this milestone we didn't built a dataset of pairs of movies with different genres, because we're confident it won't be a problem to find them. Building a dataset also won't be a problem: you sample a movie randomly, and then sample another one to form a pair. If the second one has an intersection in the genres, you resample it, until you find one with 0 intersection. We won't create all possible pairs because the dataset will be too large."
   ]
  },
  {
   "cell_type": "markdown",
   "metadata": {},
   "source": [
    "**Conclusion**\n",
    "\n",
    "With this two datasets we will be able to test our similarity function, and possibly adjust its values to have a high similarity in sequels and low similarity in movies from completely different genres. We will also need to be careful to not base the tuning completely on this as by the construction of the datasets it will give a high importance to similar characters and genres."
   ]
  },
  {
   "cell_type": "markdown",
   "metadata": {},
   "source": [
    "---\n",
    "## Visualization method\n",
    "\n",
    "We want to be able to visualize our graph. But how do you represent a graph? You could start by placing one node, and then place its neighbours at a distance (or 1/similarity) around him, then place their neighbours and so on. But with that method you can have a problem of not respecting distances with already 3 nodes A, B and C: for example the distance AB = BC = 1 and distance AC = 10. It means we probably won't be able to represent the graph perfectly, but we can still try to do the best possible by plotting nodes with a high similarity close to each other and those with a low similarity far from each other. This is done using Graph Layout Algorithms."
   ]
  },
  {
   "cell_type": "markdown",
   "metadata": {},
   "source": [
    "### Gephi\n",
    "\n",
    "<div>\n",
    "<img src=\"images/gephi.jpg\" width=\"600\"/>\n",
    "</div>\n",
    "\n",
    "**Definition**\n",
    "\n",
    "Gephi is an \"open-source platform for visualizing and manipulating large graphs\". Their Graph Layout Algorithm is force based, meaning nodes will repell and attract each other in function of the distance between them, and the visualization is in the equilibrium state.\n",
    " \n",
    "\n",
    "**Implementation**\n",
    "\n",
    "We found a [github repository](https://github.com/la-rana-kermit/Gephi-python-module) to interface Gephi with Python, which is what we'll try to use to implement. However this repository doesn't seem very active, so if we get some problems we might switch to the Gephi Software directly.\n"
   ]
  },
  {
   "cell_type": "markdown",
   "metadata": {},
   "source": [
    "---"
   ]
  },
  {
   "cell_type": "markdown",
   "metadata": {},
   "source": [
    "## Annexe: Mathematical definitions related to similarity"
   ]
  },
  {
   "cell_type": "markdown",
   "metadata": {},
   "source": [
    "#### 1.1 Cosine similarity\n",
    "$$\n",
    "cosine \\: similarity(A,B)=S_c(A,B)=cos(\\theta)=\\frac{A \\cdot B}{\\|A\\| \\|B\\|}=\\frac{\\sum_{i=1}^{n}A_iB_i}{\\sqrt{\\sum_{i=1}^{n} A_i^2}\\sqrt{\\sum_{i=1}^{n} B_i^2}}\n",
    "$$\n",
    "Where $A,B \\in \\mathbb{R}^n$, $S_c(A,B) \\in [-1,1]$ where -1 means that the two vectors are exactly opposite, and 1 means that they are exactly similar and 0 means that they are orthognonal which shows decorrelation."
   ]
  },
  {
   "cell_type": "markdown",
   "metadata": {},
   "source": [
    "#### 1.2 Centered Cosine similarity\n",
    "$$\n",
    "centered \\: cosine \\: similarity(A,B)=\\frac{(A-\\overline{A}) \\cdot (B-\\overline{B})}{\\|A-\\overline{A}\\| \\|B-\\overline{B}\\|}\n",
    "$$\n",
    "Where A and B have been normalized before by substracting their mean."
   ]
  },
  {
   "cell_type": "markdown",
   "metadata": {},
   "source": [
    "#### 1.3 Soft cosine similarity\n",
    "$$\n",
    "soft \\: cosine \\: similarity(A,B)=\\frac{\\sum_{i,j}^{n}s_{ij}A_iB_j}{\\sqrt{\\sum_{i,j}^{n} s_{ij}A_iA_j}\\sqrt{\\sum_{i,j}^{n} s_{ij}B_iB_j}}\n",
    "$$\n",
    "where $s_{ij}$=similarity($feature_i$,$feature_j$). For example if $s_{ii}$=1 and $s_{ij}$=0 $\\forall i\\neq j$ then there is no similarity between features, then the soft cosine similarity is equal to the cosine similarity. In the case where features are words, the matrix $S$ has to define the similarity between words."
   ]
  },
  {
   "cell_type": "markdown",
   "metadata": {},
   "source": [
    "#### 1.4 Associated distance with cosine similarity\n",
    "- **Angular distance**\n",
    "\n",
    "if $A_i,B_i \\in \\mathbb{R}$ \n",
    "$$\n",
    "angular \\: distance=D_\\theta=\\frac{arccos(S_c(A,B))}{\\pi}=\\frac{\\theta}{\\pi}\n",
    "$$\n",
    "$$\n",
    "angular \\: similarity=S_\\theta=1-D_\\theta=1-\\frac{\\theta}{\\pi}\n",
    "$$\n",
    "if $A_i,B_i \\in \\mathbb{R}$ and $A_i,B_i\\geq 0$\n",
    "$$\n",
    "angular \\: distance=D_\\theta=\\frac{2 \\cdot \\textrm{arccos}(S_c(A,B))}{\\pi}=\\frac{2\\theta}{\\pi}\n",
    "$$\n",
    "$$\n",
    "angular \\: similarity=S_\\theta=1-D_\\theta=1-\\frac{2\\theta}{\\pi}\n",
    "$$\n",
    "Where the angular distacne is a formal distance metric, however the arccos computation cost makes it more computationally expensive and slower.\n",
    "\n",
    "- **Cosine distance**\n",
    "\n",
    "$$\n",
    "cosine \\: distance=D_c=1-S_c(A,B)\n",
    "$$\n",
    "Where the cosine distance is an unformal distance metric (it does not respect the triangle inequality or Schwarz inequality) but it is less computationally expensive.\n",
    "\n",
    "\n",
    "- **L2-normalized Euclidean distance**\n",
    "\n",
    "From the L2 distance defined as followed: $ \\|x\\|_2=\\sqrt{\\sum x_i^2}=\\sqrt{x.x} $ and the euclidean distance defined as followed: \n",
    "$ d(A,B)=|A-B|=\\sqrt{\\sum _{i=1}^{n} (A_i-B_i)^2 } $, we get the L2-normalized Euclidean distance:\n",
    "$$\n",
    "L2-normalized \\: Euclidean \\: distance=\\sqrt{\\sum _{i=1}^{n} (A_i'-B_i')^2} \\quad \\textrm{where} \\quad A'=\\frac{A}{\\|A\\|_2}\n",
    "$$\n",
    "\n",
    "The cosine similarity and associated distances reflects relative rather than absolute comparison of vectors. For example vectors $A$ and $\\alpha A$ where $\\alpha \\in \\mathbb{R}$ are maximally similar. Therefore this similarity is appropriate for data where frequency is more important than absolute value. For text comparison it can be very useful, we could compare the frequency of terms in a document.  "
   ]
  },
  {
   "cell_type": "markdown",
   "metadata": {},
   "source": [
    "#### 1.5 Jaccard similarity coefficient\n",
    "\n",
    "$$\n",
    "J(A,B) = \\frac{|A \\cap B|}{|A \\cup B|} = \\frac{|A \\cap B|}{|A| + |B| - |A \\cap B|}\n",
    "$$\n",
    "where $J(A,B) \\in [0,1]$.\n",
    "It measures similarity between finite sample sets, and is defined as the size of the intersection divided by the size of the union of the sample sets.  \n",
    "\n",
    "#### 1.6 Associated distance with Jaccard similarity\n",
    "$$\n",
    "d_J(A,B)=1-J(A,B)=\\frac{|A\\cup B|-|A\\cap B|}{|A\\cup B|}\n",
    "$$\n",
    "The Jaccard distance, which measures dissimilarity between sample sets, is complementary to the Jaccard coefficient and is obtained by subtracting the Jaccard coefficient from 1, or, equivalently, by dividing the difference of the sizes of the union and the intersection of two sets by the size of the union."
   ]
  },
  {
   "cell_type": "markdown",
   "metadata": {},
   "source": []
  }
 ],
 "metadata": {
  "kernelspec": {
   "display_name": "Python 3 (ipykernel)",
   "language": "python",
   "name": "python3"
  },
  "language_info": {
   "codemirror_mode": {
    "name": "ipython",
    "version": 3
   },
   "file_extension": ".py",
   "mimetype": "text/x-python",
   "name": "python",
   "nbconvert_exporter": "python",
   "pygments_lexer": "ipython3",
   "version": "3.9.7"
  },
  "vscode": {
   "interpreter": {
    "hash": "82c445bf06c8f806e5f5b2ee4d9ad5bd58e46bfb14d70f2dfbba05d708c9be3a"
   }
  }
 },
 "nbformat": 4,
 "nbformat_minor": 2
}
