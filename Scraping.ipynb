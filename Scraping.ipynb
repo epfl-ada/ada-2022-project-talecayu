{
 "cells": [
  {
   "cell_type": "markdown",
   "metadata": {},
   "source": [
    "## Scraping\n",
    "\n",
    "Code for scraping that was used is given below. In this example we scrap through the whole `df_meta` but in our code we only we scraped for the movies we know we will keep, that is from the dataframe `df_clean`."
   ]
  },
  {
   "cell_type": "code",
   "execution_count": 5,
   "metadata": {},
   "outputs": [],
   "source": [
    "import requests\n",
    "from bs4 import BeautifulSoup\n",
    "import pywikibot\n",
    "from pywikibot import *\n",
    "\n",
    "def scraping(wiki_ID):\n",
    "    list = []\n",
    "\n",
    "    query_base = \"https://query.wikidata.org/bigdata/namespace/wdq/sparql?format=json&query=\"\n",
    "\n",
    "    wiki_ID_encoded = wiki_ID.replace(\"/\",\"%2F\")\n",
    "\n",
    "    pre_str = ( \"https://query.wikidata.org/bigdata/namespace/wdq/sparql?format=json&query=PREFIX%20wd%3A%20%3Chttp%3A%2F%2\" +\n",
    "        \"Fwww.wikidata.org%2Fentity%2F%3E%0APREFIX%20wdt%3A%20%3Chttp%3A%2F%2Fwww.wikidata.org%2Fprop%2Fdirect%2F%3E%0APREF\" +\n",
    "        \"IX%20wikibase%3A%20%3Chttp%3A%2F%2Fwikiba.se%2Fontology%23%3E%0A%0ASELECT%20%20%3Fs%20%3FsLabel%20%3Fp%20%20%3Fo%2\" +\n",
    "        \"0%3FoLabel%20WHERE%20%7B%0A%20%3Fs%20wdt%3AP646%20%22\" )\n",
    "    post_str = ( \"%22%20%0A%0A%20%20%20SERVICE%20wikibase%3Alabel%20%7B%0A%20%20%20%20bd%3AserviceParam%20wikibase%3Alangua\" +\n",
    "        \"ge%20%22en%22%20.%0A%20%20%20%7D%0A%20%7D\" )\n",
    "\n",
    "    query = pre_str + wiki_ID_encoded + post_str\n",
    "\n",
    "    response = requests.get(query)\n",
    "    soup = BeautifulSoup(response.content, \"html.parser\")\n",
    "\n",
    "    results = soup.find(id=\"results\")\n",
    "\n",
    "    try:\n",
    "        entity_wiki_id = response.json()['results']['bindings'][0]['s']['value']\n",
    "    except:\n",
    "        print(\"Scraping failed\")\n",
    "        return [wiki_ID,None,None]\n",
    "        \n",
    "\n",
    "    entity_wiki_id = response.json()['results']['bindings'][0]['s']['value']\n",
    "\n",
    "    str = entity_wiki_id.split('/')\n",
    "    entity = str[-1]\n",
    "    print(entity)\n",
    "    site = pywikibot.Site(\"wikidata\", \"wikidata\")\n",
    "    repo = site.data_repository()\n",
    "    item = pywikibot.ItemPage(repo, entity)\n",
    "    item_dict = item.get()\n",
    "    clm_dict = item_dict[\"claims\"] # Get the claim dictionary\n",
    "\n",
    "    #add wiki_ID to list\n",
    "    list.append(wiki_ID)\n",
    "\n",
    "    #P57 for a movie director\n",
    "    try:\n",
    "        clm_list = clm_dict[\"P57\"]\n",
    "        for clm in clm_list:\n",
    "                ...\n",
    "                clm_trgt = clm.getTarget()\n",
    "        list.append(clm_trgt.labels['en'])\n",
    "    except:\n",
    "        list.append(None)\n",
    "\n",
    "    #P462 for the color\n",
    "    try:\n",
    "        clm_list = clm_dict[\"P462\"]\n",
    "        for clm in clm_list:\n",
    "                ...\n",
    "                clm_trgt = clm.getTarget()\n",
    "        list.append(clm_trgt.labels['en'])\n",
    "    except:\n",
    "        list.append(None)\n",
    "\n",
    "    print('scraped sucessfuly')\n",
    "    return list"
   ]
  },
  {
   "cell_type": "code",
   "execution_count": 6,
   "metadata": {},
   "outputs": [],
   "source": [
    "import pandas as pd\n",
    "import numpy as np\n",
    "\n",
    "df_meta = pd.read_csv(\"data/MovieSummaries/movie.metadata.tsv\", sep='\\t', header=None, \n",
    "    names=[\"wikiID\", \"freeID\", \"name\", \"release_date\", \"revenue\", \"runtime\", \"languages\", \"countries\", \"genres\"])"
   ]
  },
  {
   "cell_type": "code",
   "execution_count": null,
   "metadata": {},
   "outputs": [],
   "source": [
    "sub_df = df_meta[0:10]\n",
    "\n",
    "list_scrap = [[]]\n",
    "for index, row in sub_df.iterrows():\n",
    "    list_scrap.append(scraping(row['freeID']))"
   ]
  },
  {
   "cell_type": "code",
   "execution_count": null,
   "metadata": {},
   "outputs": [],
   "source": [
    "df_scrapped = pd.DataFrame (list_scrap, columns = ['freeID','director', 'color'])\n",
    "df_scrapped.to_csv('./scrapped/scrapped.csv', encoding='utf-8')"
   ]
  }
 ],
 "metadata": {
  "kernelspec": {
   "display_name": "Python 3 (ipykernel)",
   "language": "python",
   "name": "python3"
  },
  "language_info": {
   "codemirror_mode": {
    "name": "ipython",
    "version": 3
   },
   "file_extension": ".py",
   "mimetype": "text/x-python",
   "name": "python",
   "nbconvert_exporter": "python",
   "pygments_lexer": "ipython3",
   "version": "3.9.12"
  },
  "vscode": {
   "interpreter": {
    "hash": "31ac17c83e798ed8e43556c9fb04296da6aead3a1428e10dc8f43a45ee225f3f"
   }
  }
 },
 "nbformat": 4,
 "nbformat_minor": 2
}
